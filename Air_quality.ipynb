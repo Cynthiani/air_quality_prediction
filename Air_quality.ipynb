{

    "#### <span style=\"color:blue\">LSTM with Time-Series Data</span>"
   ]
  },
  {
   "cell_type": "markdown",
   "id": "784f54d7",
   "metadata": {},
   "source": [
    "<div style=\"text-align: left\"><strong>Datasets:</strong> </div>\n",
    "<br> Air_Quality.csv"
   ]
  },
  {
   "cell_type": "markdown",
   "id": "8699ceaf",
   "metadata": {},
   "source": [
    "Prepared By **Cynthia Ani**"
   ]
  },
  {
   "cell_type": "markdown",
   "id": "f6ac3c1e-d875-421b-af84-90dfecf33e93",
   "metadata": {},
   "source": [
    "# Import Basic Libraries and Modules"
   ]
  },
  {
   "cell_type": "code",
   "execution_count": 1,
   "id": "d34f3356-8c87-43ab-8ea4-20984c70ef18",
   "metadata": {},
   "outputs": [],
   "source": [
    "# Import basic Libraries \n",
    "import pandas as pd\n",
    "import numpy as np\n",
    "%matplotlib inline\n",
    "import matplotlib.pyplot as plt"
   ]
  },
  {
   "cell_type": "code",
   "execution_count": 2,
   "id": "71c1e873-aba3-41fe-b97b-a19fb4ecdcf9",
   "metadata": {},
   "outputs": [
    {
     "name": "stderr",
     "output_type": "stream",
     "text": [
      "2024-11-22 04:09:57.890607: E external/local_xla/xla/stream_executor/cuda/cuda_fft.cc:485] Unable to register cuFFT factory: Attempting to register factory for plugin cuFFT when one has already been registered\n",
      "2024-11-22 04:09:57.914962: E external/local_xla/xla/stream_executor/cuda/cuda_dnn.cc:8454] Unable to register cuDNN factory: Attempting to register factory for plugin cuDNN when one has already been registered\n",
      "2024-11-22 04:09:57.922215: E external/local_xla/xla/stream_executor/cuda/cuda_blas.cc:1452] Unable to register cuBLAS factory: Attempting to register factory for plugin cuBLAS when one has already been registered\n",
      "2024-11-22 04:09:57.941216: I tensorflow/core/platform/cpu_feature_guard.cc:210] This TensorFlow binary is optimized to use available CPU instructions in performance-critical operations.\n",
      "To enable the following instructions: AVX2 FMA, in other operations, rebuild TensorFlow with the appropriate compiler flags.\n",
      "2024-11-22 04:09:59.119124: W tensorflow/compiler/tf2tensorrt/utils/py_utils.cc:38] TF-TRT Warning: Could not find TensorRT\n"
     ]
    }
   ],
   "source": [
    "# For timeseries RNN LTSM Neural Network\n",
    "from tensorflow.keras.models import Sequential\n",
    "from tensorflow.keras.layers import LSTM\n",
    "from tensorflow.keras.layers import Dropout\n",
    "from tensorflow.keras.layers import Dense\n"
   ]
  },
  {
   "cell_type": "code",
   "execution_count": 3,
   "id": "e416e7eb-e6b8-4d37-95f4-e9bbfdba0d7f",
   "metadata": {},
   "outputs": [],
   "source": [
    "# Import Keras: TimeseriesGenerator\n",
    "# This class produces time series batches used on training/testing the model\n",
    "from tensorflow.keras.preprocessing.sequence import TimeseriesGenerator\n",
    "\n",
    "# Import Keras: minmaxScaler\n",
    "# This class is used to preprocess (scale) the data\n",
    "from sklearn.preprocessing import MinMaxScaler"
   ]
  },
  {
   "cell_type": "markdown",
   "id": "7ecb7119-57b6-469c-a138-c950136b6487",
   "metadata": {},
   "source": [
    "# Load Dataset"
   ]
  },
  {
   "cell_type": "code",
   "execution_count": 4,
   "id": "6ff0e29d-83a6-4325-ad2b-8512a803a6d7",
   "metadata": {},
   "outputs": [
    {
     "data": {
      "text/html": [
       "<div>\n",
       "<style scoped>\n",
       "    .dataframe tbody tr th:only-of-type {\n",
       "        vertical-align: middle;\n",
       "    }\n",
       "\n",
       "    .dataframe tbody tr th {\n",
       "        vertical-align: top;\n",
       "    }\n",
       "\n",
       "    .dataframe thead th {\n",
       "        text-align: right;\n",
       "    }\n",
       "</style>\n",
       "<table border=\"1\" class=\"dataframe\">\n",
       "  <thead>\n",
       "    <tr style=\"text-align: right;\">\n",
       "      <th></th>\n",
       "      <th>Date</th>\n",
       "      <th>Open</th>\n",
       "      <th>High</th>\n",
       "      <th>Low</th>\n",
       "      <th>Close</th>\n",
       "      <th>Adj Close</th>\n",
       "      <th>Volume</th>\n",
       "    </tr>\n",
       "  </thead>\n",
       "  <tbody>\n",
       "    <tr>\n",
       "      <th>0</th>\n",
       "      <td>2022-04-26</td>\n",
       "      <td>162.250000</td>\n",
       "      <td>162.339996</td>\n",
       "      <td>156.720001</td>\n",
       "      <td>156.800003</td>\n",
       "      <td>155.028397</td>\n",
       "      <td>95623200</td>\n",
       "    </tr>\n",
       "    <tr>\n",
       "      <th>1</th>\n",
       "      <td>2022-04-27</td>\n",
       "      <td>155.910004</td>\n",
       "      <td>159.789993</td>\n",
       "      <td>155.380005</td>\n",
       "      <td>156.570007</td>\n",
       "      <td>154.800980</td>\n",
       "      <td>88063200</td>\n",
       "    </tr>\n",
       "    <tr>\n",
       "      <th>2</th>\n",
       "      <td>2022-04-28</td>\n",
       "      <td>159.250000</td>\n",
       "      <td>164.520004</td>\n",
       "      <td>158.929993</td>\n",
       "      <td>163.639999</td>\n",
       "      <td>161.791077</td>\n",
       "      <td>130216800</td>\n",
       "    </tr>\n",
       "    <tr>\n",
       "      <th>3</th>\n",
       "      <td>2022-04-29</td>\n",
       "      <td>161.839996</td>\n",
       "      <td>166.199997</td>\n",
       "      <td>157.250000</td>\n",
       "      <td>157.649994</td>\n",
       "      <td>155.868744</td>\n",
       "      <td>131747600</td>\n",
       "    </tr>\n",
       "    <tr>\n",
       "      <th>4</th>\n",
       "      <td>2022-05-02</td>\n",
       "      <td>156.710007</td>\n",
       "      <td>158.229996</td>\n",
       "      <td>153.270004</td>\n",
       "      <td>157.960007</td>\n",
       "      <td>156.175278</td>\n",
       "      <td>123055300</td>\n",
       "    </tr>\n",
       "  </tbody>\n",
       "</table>\n",
       "</div>"
      ],
      "text/plain": [
       "         Date        Open        High         Low       Close   Adj Close  \\\n",
       "0  2022-04-26  162.250000  162.339996  156.720001  156.800003  155.028397   \n",
       "1  2022-04-27  155.910004  159.789993  155.380005  156.570007  154.800980   \n",
       "2  2022-04-28  159.250000  164.520004  158.929993  163.639999  161.791077   \n",
       "3  2022-04-29  161.839996  166.199997  157.250000  157.649994  155.868744   \n",
       "4  2022-05-02  156.710007  158.229996  153.270004  157.960007  156.175278   \n",
       "\n",
       "      Volume  \n",
       "0   95623200  \n",
       "1   88063200  \n",
       "2  130216800  \n",
       "3  131747600  \n",
       "4  123055300  "
      ]
     },
     "execution_count": 4,
     "metadata": {},
     "output_type": "execute_result"
    }
   ],
   "source": [
    "# load the data into a dataframe\n",
    "dataset = 'Air_quality.csv'\n",
    "df_All = pd.read_csv(dataset)\n",
    "# check the first five rows\n",
    "df_All.head()"
   ]
  },
  {
   "cell_type": "markdown",
   "id": "39a18df5-5d7d-4b50-b21d-5b7a0fe91a01",
   "metadata": {},
   "source": [
    "# Brief Exploratory Data Analysis (EDA)"
   ]
  },
  {
   "cell_type": "code",
   "execution_count": 5,
   "id": "f2333296-b6b7-4a99-b9a2-f391e2d6f80a",
   "metadata": {},
   "outputs": [
    {
     "data": {
      "text/plain": [
       "(503, 7)"
      ]
     },
     "execution_count": 5,
     "metadata": {},
     "output_type": "execute_result"
    }
   ],
   "source": [
    "# check the number of rows and columns\n",
    "df_All.shape"
   ]
  },
  {
   "cell_type": "code",
   "execution_count": 6,
   "id": "1dc3154a-994a-4197-a9d2-5df5f2aaa81a",
   "metadata": {},
   "outputs": [
    {
     "data": {
      "text/plain": [
       "Date          object\n",
       "Open         float64\n",
       "High         float64\n",
       "Low          float64\n",
       "Close        float64\n",
       "Adj Close    float64\n",
       "Volume         int64\n",
       "dtype: object"
      ]
     },
     "execution_count": 6,
     "metadata": {},
     "output_type": "execute_result"
    }
   ],
   "source": [
    "# check the data types\n",
    "df_All.dtypes"
   ]
  },
  {
   "cell_type": "code",
   "execution_count": 7,
   "id": "2e2ae3c1-3f6f-46f6-916a-b63731be8c88",
   "metadata": {},
   "outputs": [
    {
     "data": {
      "text/html": [
       "<div>\n",
       "<style scoped>\n",
       "    .dataframe tbody tr th:only-of-type {\n",
       "        vertical-align: middle;\n",
       "    }\n",
       "\n",
       "    .dataframe tbody tr th {\n",
       "        vertical-align: top;\n",
       "    }\n",
       "\n",
       "    .dataframe thead th {\n",
       "        text-align: right;\n",
       "    }\n",
       "</style>\n",
       "<table border=\"1\" class=\"dataframe\">\n",
       "  <thead>\n",
       "    <tr style=\"text-align: right;\">\n",
       "      <th></th>\n",
       "      <th>Open</th>\n",
       "      <th>High</th>\n",
       "      <th>Low</th>\n",
       "      <th>Close</th>\n",
       "      <th>Adj Close</th>\n",
       "      <th>Volume</th>\n",
       "    </tr>\n",
       "  </thead>\n",
       "  <tbody>\n",
       "    <tr>\n",
       "      <th>count</th>\n",
       "      <td>503.000000</td>\n",
       "      <td>503.000000</td>\n",
       "      <td>503.000000</td>\n",
       "      <td>503.000000</td>\n",
       "      <td>503.000000</td>\n",
       "      <td>5.030000e+02</td>\n",
       "    </tr>\n",
       "    <tr>\n",
       "      <th>mean</th>\n",
       "      <td>165.201412</td>\n",
       "      <td>166.956581</td>\n",
       "      <td>163.619742</td>\n",
       "      <td>165.373300</td>\n",
       "      <td>164.591496</td>\n",
       "      <td>6.870596e+07</td>\n",
       "    </tr>\n",
       "    <tr>\n",
       "      <th>std</th>\n",
       "      <td>18.681449</td>\n",
       "      <td>18.362656</td>\n",
       "      <td>18.911069</td>\n",
       "      <td>18.643272</td>\n",
       "      <td>18.950564</td>\n",
       "      <td>2.418479e+07</td>\n",
       "    </tr>\n",
       "    <tr>\n",
       "      <th>min</th>\n",
       "      <td>126.010002</td>\n",
       "      <td>127.769997</td>\n",
       "      <td>124.169998</td>\n",
       "      <td>125.019997</td>\n",
       "      <td>124.166641</td>\n",
       "      <td>2.404830e+07</td>\n",
       "    </tr>\n",
       "    <tr>\n",
       "      <th>25%</th>\n",
       "      <td>148.884995</td>\n",
       "      <td>150.930000</td>\n",
       "      <td>147.264999</td>\n",
       "      <td>149.375000</td>\n",
       "      <td>148.143013</td>\n",
       "      <td>5.136640e+07</td>\n",
       "    </tr>\n",
       "    <tr>\n",
       "      <th>50%</th>\n",
       "      <td>168.490005</td>\n",
       "      <td>169.339996</td>\n",
       "      <td>166.899994</td>\n",
       "      <td>168.000000</td>\n",
       "      <td>167.515854</td>\n",
       "      <td>6.389620e+07</td>\n",
       "    </tr>\n",
       "    <tr>\n",
       "      <th>75%</th>\n",
       "      <td>180.379997</td>\n",
       "      <td>182.079994</td>\n",
       "      <td>178.440002</td>\n",
       "      <td>180.640007</td>\n",
       "      <td>180.048981</td>\n",
       "      <td>7.950650e+07</td>\n",
       "    </tr>\n",
       "    <tr>\n",
       "      <th>max</th>\n",
       "      <td>198.020004</td>\n",
       "      <td>199.619995</td>\n",
       "      <td>197.000000</td>\n",
       "      <td>198.110001</td>\n",
       "      <td>197.857529</td>\n",
       "      <td>1.826020e+08</td>\n",
       "    </tr>\n",
       "  </tbody>\n",
       "</table>\n",
       "</div>"
      ],
      "text/plain": [
       "             Open        High         Low       Close   Adj Close  \\\n",
       "count  503.000000  503.000000  503.000000  503.000000  503.000000   \n",
       "mean   165.201412  166.956581  163.619742  165.373300  164.591496   \n",
       "std     18.681449   18.362656   18.911069   18.643272   18.950564   \n",
       "min    126.010002  127.769997  124.169998  125.019997  124.166641   \n",
       "25%    148.884995  150.930000  147.264999  149.375000  148.143013   \n",
       "50%    168.490005  169.339996  166.899994  168.000000  167.515854   \n",
       "75%    180.379997  182.079994  178.440002  180.640007  180.048981   \n",
       "max    198.020004  199.619995  197.000000  198.110001  197.857529   \n",
       "\n",
       "             Volume  \n",
       "count  5.030000e+02  \n",
       "mean   6.870596e+07  \n",
       "std    2.418479e+07  \n",
       "min    2.404830e+07  \n",
       "25%    5.136640e+07  \n",
       "50%    6.389620e+07  \n",
       "75%    7.950650e+07  \n",
       "max    1.826020e+08  "
      ]
     },
     "execution_count": 7,
     "metadata": {},
     "output_type": "execute_result"
    }
   ],
   "source": [
    "# check the statistics summary\n",
    "df_All.describe()"
   ]
  },
  {
   "cell_type": "markdown",
   "id": "4fbd6d1e-9529-43ad-800c-f2ba0f042af4",
   "metadata": {},
   "source": [
    "**Note**The dataset is clean with no missing values"
   ]
  },
  {
   "cell_type": "markdown",
   "id": "1a1783c8-fa67-46d9-ba80-c2aae2177b41",
   "metadata": {},
   "source": [
    "### Keep Only \"Close\" (for Closing Price) and Filter Out All Other Attributes \n",
    "NOTE: The research focuses on the closing price"
   ]
  },
  {
   "cell_type": "code",
   "execution_count": 8,
   "id": "929c0cc1-d023-4d26-973f-c200df17619e",
   "metadata": {},
   "outputs": [],
   "source": [
    "closing_df= df_All.iloc[:,4:5]"
   ]
  },
  {
   "cell_type": "code",
   "execution_count": 9,
   "id": "a84e4319-4989-428e-998d-a30b89ae4563",
   "metadata": {},
   "outputs": [
    {
     "data": {
      "text/html": [
       "<div>\n",
       "<style scoped>\n",
       "    .dataframe tbody tr th:only-of-type {\n",
       "        vertical-align: middle;\n",
       "    }\n",
       "\n",
       "    .dataframe tbody tr th {\n",
       "        vertical-align: top;\n",
       "    }\n",
       "\n",
       "    .dataframe thead th {\n",
       "        text-align: right;\n",
       "    }\n",
       "</style>\n",
       "<table border=\"1\" class=\"dataframe\">\n",
       "  <thead>\n",
       "    <tr style=\"text-align: right;\">\n",
       "      <th></th>\n",
       "      <th>Close</th>\n",
       "    </tr>\n",
       "  </thead>\n",
       "  <tbody>\n",
       "    <tr>\n",
       "      <th>0</th>\n",
       "      <td>156.800003</td>\n",
       "    </tr>\n",
       "    <tr>\n",
       "      <th>1</th>\n",
       "      <td>156.570007</td>\n",
       "    </tr>\n",
       "    <tr>\n",
       "      <th>2</th>\n",
       "      <td>163.639999</td>\n",
       "    </tr>\n",
       "    <tr>\n",
       "      <th>3</th>\n",
       "      <td>157.649994</td>\n",
       "    </tr>\n",
       "    <tr>\n",
       "      <th>4</th>\n",
       "      <td>157.960007</td>\n",
       "    </tr>\n",
       "  </tbody>\n",
       "</table>\n",
       "</div>"
      ],
      "text/plain": [
       "        Close\n",
       "0  156.800003\n",
       "1  156.570007\n",
       "2  163.639999\n",
       "3  157.649994\n",
       "4  157.960007"
      ]
     },
     "execution_count": 9,
     "metadata": {},
     "output_type": "execute_result"
    }
   ],
   "source": [
    "# check to see that the slicing happened correctly\n",
    "closing_df.head()"
   ]
  },
  {
   "cell_type": "code",
   "execution_count": 10,
   "id": "0552587e-4e30-4097-97f0-309d75aed52a",
   "metadata": {},
   "outputs": [
    {
     "data": {
      "image/png": "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",
      "text/plain": [
       "<Figure size 1200x800 with 1 Axes>"
      ]
     },
     "metadata": {},
     "output_type": "display_data"
    }
   ],
   "source": [
    "\n",
    "\n",
    "# Visualize the dataset using Matplotlib\n",
    "plt.figure(figsize=(12, 8))\n",
    "plt.plot(closing_df)\n",
    "plt.title(\"Dataset Visualization\")\n",
    "plt.xlabel(\"Time\")\n",
    "plt.ylabel(\"Values\")\n",
    "plt.show()\n"
   ]
  },
  {
   "cell_type": "markdown",
   "id": "3003b898-9f82-4023-92bd-a484b2f4936a",
   "metadata": {},
   "source": [
    "#### Length of Input Time Series- Number of Input Time steps"
   ]
  },
  {
   "cell_type": "code",
   "execution_count": 11,
   "id": "38adedab-6e1e-46f0-9ef1-c5e6b0b8c1a3",
   "metadata": {},
   "outputs": [],
   "source": [
    "# set the length of thw input sequence \n",
    "# i.e, the number of the time series steps that are used to predict the future one \n",
    "# Currently use 60 historical data points to predict the next one \n",
    "# it means that 60 consecutive closing prices will be used to predict the next one \n",
    "\n",
    "length60 = 60"
   ]
  },
  {
   "cell_type": "code",
   "execution_count": 12,
   "id": "dfea5269-cb4e-40ad-89d0-198f7b7be94a",
   "metadata": {},
   "outputs": [
    {
     "data": {
      "text/plain": [
       "60"
      ]
     },
     "execution_count": 12,
     "metadata": {},
     "output_type": "execute_result"
    }
   ],
   "source": [
    "length60"
   ]
  },
  {
   "cell_type": "markdown",
   "id": "c97f8454-9f73-421d-b004-8002134fa0c6",
   "metadata": {},
   "source": [
    "### Time Series Dataset: Train/ Test split"
   ]
  },
  {
   "cell_type": "code",
   "execution_count": 13,
   "id": "f8febe05-e1cd-4752-9160-5faea1cc35b0",
   "metadata": {},
   "outputs": [
    {
     "data": {
      "text/plain": [
       "503"
      ]
     },
     "execution_count": 13,
     "metadata": {},
     "output_type": "execute_result"
    }
   ],
   "source": [
    "#check number of data \n",
    "len(closing_df)"
   ]
  },
  {
   "cell_type": "code",
   "execution_count": 14,
   "id": "385622a6-8922-49c9-a1ff-b6504d7342b1",
   "metadata": {},
   "outputs": [],
   "source": [
    "# Set the percentage of Data used for testing \n",
    "test_percent = 0.1"
   ]
  },
  {
   "cell_type": "code",
   "execution_count": 15,
   "id": "869cc1ab-750c-4e5a-a4df-9b378c59d276",
   "metadata": {},
   "outputs": [
    {
     "data": {
      "text/plain": [
       "50.300000000000004"
      ]
     },
     "execution_count": 15,
     "metadata": {},
     "output_type": "execute_result"
    }
   ],
   "source": [
    "# Number of data points reserved for testing the model \n",
    "# 20% of the original dataset\n",
    "\n",
    "len(closing_df)*test_percent"
   ]
  },
  {
   "cell_type": "markdown",
   "id": "a632d4dd-bf2f-4e08-aa37-19287f7ecb47",
   "metadata": {},
   "source": [
    "### Split Data--> Train/ Test"
   ]
  },
  {
   "cell_type": "code",
   "execution_count": 16,
   "id": "9703015c-b95d-4d60-a645-b1b0cdbcbd0d",
   "metadata": {},
   "outputs": [
    {
     "data": {
      "text/plain": [
       "50.0"
      ]
     },
     "execution_count": 16,
     "metadata": {},
     "output_type": "execute_result"
    }
   ],
   "source": [
    "# Need to find the length (number of data points) of the testing dataset\n",
    "# It has been found (above) that around 205 data points are used for testing \n",
    "\n",
    "test_length = np.round(len(closing_df)*test_percent)\n",
    "\n",
    "test_length "
   ]
  },
  {
   "cell_type": "code",
   "execution_count": 17,
   "id": "18265dc3-fdb8-4b02-9fe8-c905d2a60904",
   "metadata": {},
   "outputs": [
    {
     "data": {
      "text/plain": [
       "453"
      ]
     },
     "execution_count": 17,
     "metadata": {},
     "output_type": "execute_result"
    }
   ],
   "source": [
    "# The testing data set starts at this Index \n",
    "# test_start_index = int(len(closing_df) - test_length)\n",
    "split_index = int(len(closing_df) - test_length)\n",
    "\n",
    "split_index"
   ]
  },
  {
   "cell_type": "code",
   "execution_count": 18,
   "id": "45e34767-b4bb-4dd2-8fbe-04446550a136",
   "metadata": {},
   "outputs": [],
   "source": [
    "# create seperate training / testing datasets\n",
    "# Training dataset: All the indices from start to split index\n",
    "# (excluding split_index)\n",
    "data_train = closing_df.iloc[: split_index]\n",
    "\n",
    "# Testing dataset: \n",
    "# --) All the indices from (split_index-length60) to the end of the dataframe \n",
    "# --) split_index - length60: Need the last 60 historical data points (belong to data_train)\n",
    "#     to predict the first data point to the data_test \n",
    "data_test = closing_df.iloc[split_index - length60 :]"
   ]
  },
  {
   "cell_type": "code",
   "execution_count": 19,
   "id": "6110b4eb-3b4c-499b-9f61-00c6487c14bb",
   "metadata": {},
   "outputs": [],
   "source": [
    "# Check the first 5 rows of the train and test data and the last 5 rows of the test and train data"
   ]
  },
  {
   "cell_type": "code",
   "execution_count": 20,
   "id": "5c5b8f8b-0e0f-4950-9295-ea9e6dbfe8f9",
   "metadata": {},
   "outputs": [
    {
     "data": {
      "text/html": [
       "<div>\n",
       "<style scoped>\n",
       "    .dataframe tbody tr th:only-of-type {\n",
       "        vertical-align: middle;\n",
       "    }\n",
       "\n",
       "    .dataframe tbody tr th {\n",
       "        vertical-align: top;\n",
       "    }\n",
       "\n",
       "    .dataframe thead th {\n",
       "        text-align: right;\n",
       "    }\n",
       "</style>\n",
       "<table border=\"1\" class=\"dataframe\">\n",
       "  <thead>\n",
       "    <tr style=\"text-align: right;\">\n",
       "      <th></th>\n",
       "      <th>Close</th>\n",
       "    </tr>\n",
       "  </thead>\n",
       "  <tbody>\n",
       "    <tr>\n",
       "      <th>0</th>\n",
       "      <td>156.800003</td>\n",
       "    </tr>\n",
       "    <tr>\n",
       "      <th>1</th>\n",
       "      <td>156.570007</td>\n",
       "    </tr>\n",
       "    <tr>\n",
       "      <th>2</th>\n",
       "      <td>163.639999</td>\n",
       "    </tr>\n",
       "    <tr>\n",
       "      <th>3</th>\n",
       "      <td>157.649994</td>\n",
       "    </tr>\n",
       "    <tr>\n",
       "      <th>4</th>\n",
       "      <td>157.960007</td>\n",
       "    </tr>\n",
       "  </tbody>\n",
       "</table>\n",
       "</div>"
      ],
      "text/plain": [
       "        Close\n",
       "0  156.800003\n",
       "1  156.570007\n",
       "2  163.639999\n",
       "3  157.649994\n",
       "4  157.960007"
      ]
     },
     "execution_count": 20,
     "metadata": {},
     "output_type": "execute_result"
    }
   ],
   "source": [
    "data_train.head(5)"
   ]
  },
  {
   "cell_type": "code",
   "execution_count": 21,
   "id": "0d7a3747-9708-4a3e-a940-f9eaa553384e",
   "metadata": {},
   "outputs": [
    {
     "data": {
      "text/html": [
       "<div>\n",
       "<style scoped>\n",
       "    .dataframe tbody tr th:only-of-type {\n",
       "        vertical-align: middle;\n",
       "    }\n",
       "\n",
       "    .dataframe tbody tr th {\n",
       "        vertical-align: top;\n",
       "    }\n",
       "\n",
       "    .dataframe thead th {\n",
       "        text-align: right;\n",
       "    }\n",
       "</style>\n",
       "<table border=\"1\" class=\"dataframe\">\n",
       "  <thead>\n",
       "    <tr style=\"text-align: right;\">\n",
       "      <th></th>\n",
       "      <th>Close</th>\n",
       "    </tr>\n",
       "  </thead>\n",
       "  <tbody>\n",
       "    <tr>\n",
       "      <th>448</th>\n",
       "      <td>189.410004</td>\n",
       "    </tr>\n",
       "    <tr>\n",
       "      <th>449</th>\n",
       "      <td>188.320007</td>\n",
       "    </tr>\n",
       "    <tr>\n",
       "      <th>450</th>\n",
       "      <td>188.850006</td>\n",
       "    </tr>\n",
       "    <tr>\n",
       "      <th>451</th>\n",
       "      <td>187.149994</td>\n",
       "    </tr>\n",
       "    <tr>\n",
       "      <th>452</th>\n",
       "      <td>185.039993</td>\n",
       "    </tr>\n",
       "  </tbody>\n",
       "</table>\n",
       "</div>"
      ],
      "text/plain": [
       "          Close\n",
       "448  189.410004\n",
       "449  188.320007\n",
       "450  188.850006\n",
       "451  187.149994\n",
       "452  185.039993"
      ]
     },
     "execution_count": 21,
     "metadata": {},
     "output_type": "execute_result"
    }
   ],
   "source": [
    "data_train.tail()"
   ]
  },
  {
   "cell_type": "code",
   "execution_count": 22,
   "id": "65a06aa9-6ae1-42c4-9fd2-9d69ea7ab392",
   "metadata": {},
   "outputs": [
    {
     "data": {
      "text/html": [
       "<div>\n",
       "<style scoped>\n",
       "    .dataframe tbody tr th:only-of-type {\n",
       "        vertical-align: middle;\n",
       "    }\n",
       "\n",
       "    .dataframe tbody tr th {\n",
       "        vertical-align: top;\n",
       "    }\n",
       "\n",
       "    .dataframe thead th {\n",
       "        text-align: right;\n",
       "    }\n",
       "</style>\n",
       "<table border=\"1\" class=\"dataframe\">\n",
       "  <thead>\n",
       "    <tr style=\"text-align: right;\">\n",
       "      <th></th>\n",
       "      <th>Close</th>\n",
       "    </tr>\n",
       "  </thead>\n",
       "  <tbody>\n",
       "    <tr>\n",
       "      <th>393</th>\n",
       "      <td>189.710007</td>\n",
       "    </tr>\n",
       "    <tr>\n",
       "      <th>394</th>\n",
       "      <td>189.690002</td>\n",
       "    </tr>\n",
       "    <tr>\n",
       "      <th>395</th>\n",
       "      <td>191.449997</td>\n",
       "    </tr>\n",
       "    <tr>\n",
       "      <th>396</th>\n",
       "      <td>190.639999</td>\n",
       "    </tr>\n",
       "    <tr>\n",
       "      <th>397</th>\n",
       "      <td>191.309998</td>\n",
       "    </tr>\n",
       "  </tbody>\n",
       "</table>\n",
       "</div>"
      ],
      "text/plain": [
       "          Close\n",
       "393  189.710007\n",
       "394  189.690002\n",
       "395  191.449997\n",
       "396  190.639999\n",
       "397  191.309998"
      ]
     },
     "execution_count": 22,
     "metadata": {},
     "output_type": "execute_result"
    }
   ],
   "source": [
    "data_test.head(5)"
   ]
  },
  {
   "cell_type": "code",
   "execution_count": 23,
   "id": "b45a610e-d357-4d0b-9f17-700e56b2fdbc",
   "metadata": {},
   "outputs": [
    {
     "data": {
      "text/html": [
       "<div>\n",
       "<style scoped>\n",
       "    .dataframe tbody tr th:only-of-type {\n",
       "        vertical-align: middle;\n",
       "    }\n",
       "\n",
       "    .dataframe tbody tr th {\n",
       "        vertical-align: top;\n",
       "    }\n",
       "\n",
       "    .dataframe thead th {\n",
       "        text-align: right;\n",
       "    }\n",
       "</style>\n",
       "<table border=\"1\" class=\"dataframe\">\n",
       "  <thead>\n",
       "    <tr style=\"text-align: right;\">\n",
       "      <th></th>\n",
       "      <th>Close</th>\n",
       "    </tr>\n",
       "  </thead>\n",
       "  <tbody>\n",
       "    <tr>\n",
       "      <th>498</th>\n",
       "      <td>165.000000</td>\n",
       "    </tr>\n",
       "    <tr>\n",
       "      <th>499</th>\n",
       "      <td>165.839996</td>\n",
       "    </tr>\n",
       "    <tr>\n",
       "      <th>500</th>\n",
       "      <td>166.899994</td>\n",
       "    </tr>\n",
       "    <tr>\n",
       "      <th>501</th>\n",
       "      <td>169.020004</td>\n",
       "    </tr>\n",
       "    <tr>\n",
       "      <th>502</th>\n",
       "      <td>169.889999</td>\n",
       "    </tr>\n",
       "  </tbody>\n",
       "</table>\n",
       "</div>"
      ],
      "text/plain": [
       "          Close\n",
       "498  165.000000\n",
       "499  165.839996\n",
       "500  166.899994\n",
       "501  169.020004\n",
       "502  169.889999"
      ]
     },
     "execution_count": 23,
     "metadata": {},
     "output_type": "execute_result"
    }
   ],
   "source": [
    "data_test.tail()"
   ]
  },
  {
   "cell_type": "markdown",
   "id": "9d541ccc-4ec7-42c3-867e-0f23c95e863c",
   "metadata": {},
   "source": [
    "### Normalize the Data (Scale it into the range [0,1])"
   ]
  },
  {
   "cell_type": "code",
   "execution_count": 24,
   "id": "dff81f9f-aaca-4e06-a9db-ebf8f5e33f4f",
   "metadata": {},
   "outputs": [],
   "source": [
    "# Create a MinMaxScaler to Normalize the data\n",
    "scaler = MinMaxScaler()"
   ]
  },
  {
   "cell_type": "code",
   "execution_count": 25,
   "id": "3ace8ea9-82b4-4f5b-91c4-9114e21695ef",
   "metadata": {},
   "outputs": [
    {
     "data": {
      "text/html": [
       "<style>#sk-container-id-1 {\n",
       "  /* Definition of color scheme common for light and dark mode */\n",
       "  --sklearn-color-text: black;\n",
       "  --sklearn-color-line: gray;\n",
       "  /* Definition of color scheme for unfitted estimators */\n",
       "  --sklearn-color-unfitted-level-0: #fff5e6;\n",
       "  --sklearn-color-unfitted-level-1: #f6e4d2;\n",
       "  --sklearn-color-unfitted-level-2: #ffe0b3;\n",
       "  --sklearn-color-unfitted-level-3: chocolate;\n",
       "  /* Definition of color scheme for fitted estimators */\n",
       "  --sklearn-color-fitted-level-0: #f0f8ff;\n",
       "  --sklearn-color-fitted-level-1: #d4ebff;\n",
       "  --sklearn-color-fitted-level-2: #b3dbfd;\n",
       "  --sklearn-color-fitted-level-3: cornflowerblue;\n",
       "\n",
       "  /* Specific color for light theme */\n",
       "  --sklearn-color-text-on-default-background: var(--sg-text-color, var(--theme-code-foreground, var(--jp-content-font-color1, black)));\n",
       "  --sklearn-color-background: var(--sg-background-color, var(--theme-background, var(--jp-layout-color0, white)));\n",
       "  --sklearn-color-border-box: var(--sg-text-color, var(--theme-code-foreground, var(--jp-content-font-color1, black)));\n",
       "  --sklearn-color-icon: #696969;\n",
       "\n",
       "  @media (prefers-color-scheme: dark) {\n",
       "    /* Redefinition of color scheme for dark theme */\n",
       "    --sklearn-color-text-on-default-background: var(--sg-text-color, var(--theme-code-foreground, var(--jp-content-font-color1, white)));\n",
       "    --sklearn-color-background: var(--sg-background-color, var(--theme-background, var(--jp-layout-color0, #111)));\n",
       "    --sklearn-color-border-box: var(--sg-text-color, var(--theme-code-foreground, var(--jp-content-font-color1, white)));\n",
       "    --sklearn-color-icon: #878787;\n",
       "  }\n",
       "}\n",
       "\n",
       "#sk-container-id-1 {\n",
       "  color: var(--sklearn-color-text);\n",
       "}\n",
       "\n",
       "#sk-container-id-1 pre {\n",
       "  padding: 0;\n",
       "}\n",
       "\n",
       "#sk-container-id-1 input.sk-hidden--visually {\n",
       "  border: 0;\n",
       "  clip: rect(1px 1px 1px 1px);\n",
       "  clip: rect(1px, 1px, 1px, 1px);\n",
       "  height: 1px;\n",
       "  margin: -1px;\n",
       "  overflow: hidden;\n",
       "  padding: 0;\n",
       "  position: absolute;\n",
       "  width: 1px;\n",
       "}\n",
       "\n",
       "#sk-container-id-1 div.sk-dashed-wrapped {\n",
       "  border: 1px dashed var(--sklearn-color-line);\n",
       "  margin: 0 0.4em 0.5em 0.4em;\n",
       "  box-sizing: border-box;\n",
       "  padding-bottom: 0.4em;\n",
       "  background-color: var(--sklearn-color-background);\n",
       "}\n",
       "\n",
       "#sk-container-id-1 div.sk-container {\n",
       "  /* jupyter's `normalize.less` sets `[hidden] { display: none; }`\n",
       "     but bootstrap.min.css set `[hidden] { display: none !important; }`\n",
       "     so we also need the `!important` here to be able to override the\n",
       "     default hidden behavior on the sphinx rendered scikit-learn.org.\n",
       "     See: https://github.com/scikit-learn/scikit-learn/issues/21755 */\n",
       "  display: inline-block !important;\n",
       "  position: relative;\n",
       "}\n",
       "\n",
       "#sk-container-id-1 div.sk-text-repr-fallback {\n",
       "  display: none;\n",
       "}\n",
       "\n",
       "div.sk-parallel-item,\n",
       "div.sk-serial,\n",
       "div.sk-item {\n",
       "  /* draw centered vertical line to link estimators */\n",
       "  background-image: linear-gradient(var(--sklearn-color-text-on-default-background), var(--sklearn-color-text-on-default-background));\n",
       "  background-size: 2px 100%;\n",
       "  background-repeat: no-repeat;\n",
       "  background-position: center center;\n",
       "}\n",
       "\n",
       "/* Parallel-specific style estimator block */\n",
       "\n",
       "#sk-container-id-1 div.sk-parallel-item::after {\n",
       "  content: \"\";\n",
       "  width: 100%;\n",
       "  border-bottom: 2px solid var(--sklearn-color-text-on-default-background);\n",
       "  flex-grow: 1;\n",
       "}\n",
       "\n",
       "#sk-container-id-1 div.sk-parallel {\n",
       "  display: flex;\n",
       "  align-items: stretch;\n",
       "  justify-content: center;\n",
       "  background-color: var(--sklearn-color-background);\n",
       "  position: relative;\n",
       "}\n",
       "\n",
       "#sk-container-id-1 div.sk-parallel-item {\n",
       "  display: flex;\n",
       "  flex-direction: column;\n",
       "}\n",
       "\n",
       "#sk-container-id-1 div.sk-parallel-item:first-child::after {\n",
       "  align-self: flex-end;\n",
       "  width: 50%;\n",
       "}\n",
       "\n",
       "#sk-container-id-1 div.sk-parallel-item:last-child::after {\n",
       "  align-self: flex-start;\n",
       "  width: 50%;\n",
       "}\n",
       "\n",
       "#sk-container-id-1 div.sk-parallel-item:only-child::after {\n",
       "  width: 0;\n",
       "}\n",
       "\n",
       "/* Serial-specific style estimator block */\n",
       "\n",
       "#sk-container-id-1 div.sk-serial {\n",
       "  display: flex;\n",
       "  flex-direction: column;\n",
       "  align-items: center;\n",
       "  background-color: var(--sklearn-color-background);\n",
       "  padding-right: 1em;\n",
       "  padding-left: 1em;\n",
       "}\n",
       "\n",
       "\n",
       "/* Toggleable style: style used for estimator/Pipeline/ColumnTransformer box that is\n",
       "clickable and can be expanded/collapsed.\n",
       "- Pipeline and ColumnTransformer use this feature and define the default style\n",
       "- Estimators will overwrite some part of the style using the `sk-estimator` class\n",
       "*/\n",
       "\n",
       "/* Pipeline and ColumnTransformer style (default) */\n",
       "\n",
       "#sk-container-id-1 div.sk-toggleable {\n",
       "  /* Default theme specific background. It is overwritten whether we have a\n",
       "  specific estimator or a Pipeline/ColumnTransformer */\n",
       "  background-color: var(--sklearn-color-background);\n",
       "}\n",
       "\n",
       "/* Toggleable label */\n",
       "#sk-container-id-1 label.sk-toggleable__label {\n",
       "  cursor: pointer;\n",
       "  display: block;\n",
       "  width: 100%;\n",
       "  margin-bottom: 0;\n",
       "  padding: 0.5em;\n",
       "  box-sizing: border-box;\n",
       "  text-align: center;\n",
       "}\n",
       "\n",
       "#sk-container-id-1 label.sk-toggleable__label-arrow:before {\n",
       "  /* Arrow on the left of the label */\n",
       "  content: \"▸\";\n",
       "  float: left;\n",
       "  margin-right: 0.25em;\n",
       "  color: var(--sklearn-color-icon);\n",
       "}\n",
       "\n",
       "#sk-container-id-1 label.sk-toggleable__label-arrow:hover:before {\n",
       "  color: var(--sklearn-color-text);\n",
       "}\n",
       "\n",
       "/* Toggleable content - dropdown */\n",
       "\n",
       "#sk-container-id-1 div.sk-toggleable__content {\n",
       "  max-height: 0;\n",
       "  max-width: 0;\n",
       "  overflow: hidden;\n",
       "  text-align: left;\n",
       "  /* unfitted */\n",
       "  background-color: var(--sklearn-color-unfitted-level-0);\n",
       "}\n",
       "\n",
       "#sk-container-id-1 div.sk-toggleable__content.fitted {\n",
       "  /* fitted */\n",
       "  background-color: var(--sklearn-color-fitted-level-0);\n",
       "}\n",
       "\n",
       "#sk-container-id-1 div.sk-toggleable__content pre {\n",
       "  margin: 0.2em;\n",
       "  border-radius: 0.25em;\n",
       "  color: var(--sklearn-color-text);\n",
       "  /* unfitted */\n",
       "  background-color: var(--sklearn-color-unfitted-level-0);\n",
       "}\n",
       "\n",
       "#sk-container-id-1 div.sk-toggleable__content.fitted pre {\n",
       "  /* unfitted */\n",
       "  background-color: var(--sklearn-color-fitted-level-0);\n",
       "}\n",
       "\n",
       "#sk-container-id-1 input.sk-toggleable__control:checked~div.sk-toggleable__content {\n",
       "  /* Expand drop-down */\n",
       "  max-height: 200px;\n",
       "  max-width: 100%;\n",
       "  overflow: auto;\n",
       "}\n",
       "\n",
       "#sk-container-id-1 input.sk-toggleable__control:checked~label.sk-toggleable__label-arrow:before {\n",
       "  content: \"▾\";\n",
       "}\n",
       "\n",
       "/* Pipeline/ColumnTransformer-specific style */\n",
       "\n",
       "#sk-container-id-1 div.sk-label input.sk-toggleable__control:checked~label.sk-toggleable__label {\n",
       "  color: var(--sklearn-color-text);\n",
       "  background-color: var(--sklearn-color-unfitted-level-2);\n",
       "}\n",
       "\n",
       "#sk-container-id-1 div.sk-label.fitted input.sk-toggleable__control:checked~label.sk-toggleable__label {\n",
       "  background-color: var(--sklearn-color-fitted-level-2);\n",
       "}\n",
       "\n",
       "/* Estimator-specific style */\n",
       "\n",
       "/* Colorize estimator box */\n",
       "#sk-container-id-1 div.sk-estimator input.sk-toggleable__control:checked~label.sk-toggleable__label {\n",
       "  /* unfitted */\n",
       "  background-color: var(--sklearn-color-unfitted-level-2);\n",
       "}\n",
       "\n",
       "#sk-container-id-1 div.sk-estimator.fitted input.sk-toggleable__control:checked~label.sk-toggleable__label {\n",
       "  /* fitted */\n",
       "  background-color: var(--sklearn-color-fitted-level-2);\n",
       "}\n",
       "\n",
       "#sk-container-id-1 div.sk-label label.sk-toggleable__label,\n",
       "#sk-container-id-1 div.sk-label label {\n",
       "  /* The background is the default theme color */\n",
       "  color: var(--sklearn-color-text-on-default-background);\n",
       "}\n",
       "\n",
       "/* On hover, darken the color of the background */\n",
       "#sk-container-id-1 div.sk-label:hover label.sk-toggleable__label {\n",
       "  color: var(--sklearn-color-text);\n",
       "  background-color: var(--sklearn-color-unfitted-level-2);\n",
       "}\n",
       "\n",
       "/* Label box, darken color on hover, fitted */\n",
       "#sk-container-id-1 div.sk-label.fitted:hover label.sk-toggleable__label.fitted {\n",
       "  color: var(--sklearn-color-text);\n",
       "  background-color: var(--sklearn-color-fitted-level-2);\n",
       "}\n",
       "\n",
       "/* Estimator label */\n",
       "\n",
       "#sk-container-id-1 div.sk-label label {\n",
       "  font-family: monospace;\n",
       "  font-weight: bold;\n",
       "  display: inline-block;\n",
       "  line-height: 1.2em;\n",
       "}\n",
       "\n",
       "#sk-container-id-1 div.sk-label-container {\n",
       "  text-align: center;\n",
       "}\n",
       "\n",
       "/* Estimator-specific */\n",
       "#sk-container-id-1 div.sk-estimator {\n",
       "  font-family: monospace;\n",
       "  border: 1px dotted var(--sklearn-color-border-box);\n",
       "  border-radius: 0.25em;\n",
       "  box-sizing: border-box;\n",
       "  margin-bottom: 0.5em;\n",
       "  /* unfitted */\n",
       "  background-color: var(--sklearn-color-unfitted-level-0);\n",
       "}\n",
       "\n",
       "#sk-container-id-1 div.sk-estimator.fitted {\n",
       "  /* fitted */\n",
       "  background-color: var(--sklearn-color-fitted-level-0);\n",
       "}\n",
       "\n",
       "/* on hover */\n",
       "#sk-container-id-1 div.sk-estimator:hover {\n",
       "  /* unfitted */\n",
       "  background-color: var(--sklearn-color-unfitted-level-2);\n",
       "}\n",
       "\n",
       "#sk-container-id-1 div.sk-estimator.fitted:hover {\n",
       "  /* fitted */\n",
       "  background-color: var(--sklearn-color-fitted-level-2);\n",
       "}\n",
       "\n",
       "/* Specification for estimator info (e.g. \"i\" and \"?\") */\n",
       "\n",
       "/* Common style for \"i\" and \"?\" */\n",
       "\n",
       ".sk-estimator-doc-link,\n",
       "a:link.sk-estimator-doc-link,\n",
       "a:visited.sk-estimator-doc-link {\n",
       "  float: right;\n",
       "  font-size: smaller;\n",
       "  line-height: 1em;\n",
       "  font-family: monospace;\n",
       "  background-color: var(--sklearn-color-background);\n",
       "  border-radius: 1em;\n",
       "  height: 1em;\n",
       "  width: 1em;\n",
       "  text-decoration: none !important;\n",
       "  margin-left: 1ex;\n",
       "  /* unfitted */\n",
       "  border: var(--sklearn-color-unfitted-level-1) 1pt solid;\n",
       "  color: var(--sklearn-color-unfitted-level-1);\n",
       "}\n",
       "\n",
       ".sk-estimator-doc-link.fitted,\n",
       "a:link.sk-estimator-doc-link.fitted,\n",
       "a:visited.sk-estimator-doc-link.fitted {\n",
       "  /* fitted */\n",
       "  border: var(--sklearn-color-fitted-level-1) 1pt solid;\n",
       "  color: var(--sklearn-color-fitted-level-1);\n",
       "}\n",
       "\n",
       "/* On hover */\n",
       "div.sk-estimator:hover .sk-estimator-doc-link:hover,\n",
       ".sk-estimator-doc-link:hover,\n",
       "div.sk-label-container:hover .sk-estimator-doc-link:hover,\n",
       ".sk-estimator-doc-link:hover {\n",
       "  /* unfitted */\n",
       "  background-color: var(--sklearn-color-unfitted-level-3);\n",
       "  color: var(--sklearn-color-background);\n",
       "  text-decoration: none;\n",
       "}\n",
       "\n",
       "div.sk-estimator.fitted:hover .sk-estimator-doc-link.fitted:hover,\n",
       ".sk-estimator-doc-link.fitted:hover,\n",
       "div.sk-label-container:hover .sk-estimator-doc-link.fitted:hover,\n",
       ".sk-estimator-doc-link.fitted:hover {\n",
       "  /* fitted */\n",
       "  background-color: var(--sklearn-color-fitted-level-3);\n",
       "  color: var(--sklearn-color-background);\n",
       "  text-decoration: none;\n",
       "}\n",
       "\n",
       "/* Span, style for the box shown on hovering the info icon */\n",
       ".sk-estimator-doc-link span {\n",
       "  display: none;\n",
       "  z-index: 9999;\n",
       "  position: relative;\n",
       "  font-weight: normal;\n",
       "  right: .2ex;\n",
       "  padding: .5ex;\n",
       "  margin: .5ex;\n",
       "  width: min-content;\n",
       "  min-width: 20ex;\n",
       "  max-width: 50ex;\n",
       "  color: var(--sklearn-color-text);\n",
       "  box-shadow: 2pt 2pt 4pt #999;\n",
       "  /* unfitted */\n",
       "  background: var(--sklearn-color-unfitted-level-0);\n",
       "  border: .5pt solid var(--sklearn-color-unfitted-level-3);\n",
       "}\n",
       "\n",
       ".sk-estimator-doc-link.fitted span {\n",
       "  /* fitted */\n",
       "  background: var(--sklearn-color-fitted-level-0);\n",
       "  border: var(--sklearn-color-fitted-level-3);\n",
       "}\n",
       "\n",
       ".sk-estimator-doc-link:hover span {\n",
       "  display: block;\n",
       "}\n",
       "\n",
       "/* \"?\"-specific style due to the `<a>` HTML tag */\n",
       "\n",
       "#sk-container-id-1 a.estimator_doc_link {\n",
       "  float: right;\n",
       "  font-size: 1rem;\n",
       "  line-height: 1em;\n",
       "  font-family: monospace;\n",
       "  background-color: var(--sklearn-color-background);\n",
       "  border-radius: 1rem;\n",
       "  height: 1rem;\n",
       "  width: 1rem;\n",
       "  text-decoration: none;\n",
       "  /* unfitted */\n",
       "  color: var(--sklearn-color-unfitted-level-1);\n",
       "  border: var(--sklearn-color-unfitted-level-1) 1pt solid;\n",
       "}\n",
       "\n",
       "#sk-container-id-1 a.estimator_doc_link.fitted {\n",
       "  /* fitted */\n",
       "  border: var(--sklearn-color-fitted-level-1) 1pt solid;\n",
       "  color: var(--sklearn-color-fitted-level-1);\n",
       "}\n",
       "\n",
       "/* On hover */\n",
       "#sk-container-id-1 a.estimator_doc_link:hover {\n",
       "  /* unfitted */\n",
       "  background-color: var(--sklearn-color-unfitted-level-3);\n",
       "  color: var(--sklearn-color-background);\n",
       "  text-decoration: none;\n",
       "}\n",
       "\n",
       "#sk-container-id-1 a.estimator_doc_link.fitted:hover {\n",
       "  /* fitted */\n",
       "  background-color: var(--sklearn-color-fitted-level-3);\n",
       "}\n",
       "</style><div id=\"sk-container-id-1\" class=\"sk-top-container\"><div class=\"sk-text-repr-fallback\"><pre>MinMaxScaler()</pre><b>In a Jupyter environment, please rerun this cell to show the HTML representation or trust the notebook. <br />On GitHub, the HTML representation is unable to render, please try loading this page with nbviewer.org.</b></div><div class=\"sk-container\" hidden><div class=\"sk-item\"><div class=\"sk-estimator fitted sk-toggleable\"><input class=\"sk-toggleable__control sk-hidden--visually\" id=\"sk-estimator-id-1\" type=\"checkbox\" checked><label for=\"sk-estimator-id-1\" class=\"sk-toggleable__label fitted sk-toggleable__label-arrow fitted\">&nbsp;&nbsp;MinMaxScaler<a class=\"sk-estimator-doc-link fitted\" rel=\"noreferrer\" target=\"_blank\" href=\"https://scikit-learn.org/1.5/modules/generated/sklearn.preprocessing.MinMaxScaler.html\">?<span>Documentation for MinMaxScaler</span></a><span class=\"sk-estimator-doc-link fitted\">i<span>Fitted</span></span></label><div class=\"sk-toggleable__content fitted\"><pre>MinMaxScaler()</pre></div> </div></div></div></div>"
      ],
      "text/plain": [
       "MinMaxScaler()"
      ]
     },
     "execution_count": 25,
     "metadata": {},
     "output_type": "execute_result"
    }
   ],
   "source": [
    "# Ignore the warnings: Just converting the data to floats\n",
    "# Only scale thr Training dat - Not scale testing data\n",
    "\n",
    "# Train the scaler to perform the Normalization\n",
    "scaler.fit(data_train)"
   ]
  },
  {
   "cell_type": "code",
   "execution_count": 26,
   "id": "392c09d5-6c05-42eb-8f3c-e121af8a154f",
   "metadata": {},
   "outputs": [],
   "source": [
    "# Normalize the training dataset\n",
    "normalized_train = scaler.transform(data_train)\n",
    "\n",
    "# Normalize the testing dataset \n",
    "normalized_test = scaler.transform(data_test)"
   ]
  },
  {
   "cell_type": "markdown",
   "id": "4f7006f2-587a-4965-ba47-f3ce6d3f4a77",
   "metadata": {},
   "source": [
    "### Create TimeseriesGenerator for Training"
   ]
  },
  {
   "cell_type": "code",
   "execution_count": 27,
   "id": "dc4aa520-86ed-40b1-9aba-c7d36e0b8096",
   "metadata": {},
   "outputs": [],
   "source": [
    "# TimeseriesGenerator: Generate time series batches for training/testing\n",
    "\n",
    "# set the length of the input sequence above \n",
    "# length60\n",
    "\n",
    "# batch_size: number of the time series samples in each batch \n",
    "# sample: A single timeseries input that has 60 historical data points\n",
    "batch_size32 = 32\n",
    "\n",
    "# create a TimeseriesGenerator for training: train_tsGenerator\n",
    "#--) This time series generator produces time series batches used to train the model\n",
    "# TimeseriesGenerator (inputs, outputs, length, batch_size)\n",
    "#--) Normally: INPUTS & OUTPUTS sre the same dataset during training and testing/validation\n",
    "train_tsGenerator60 = TimeseriesGenerator(normalized_train, normalized_train, length= length60, batch_size=batch_size32)"
   ]
  },
  {
   "cell_type": "code",
   "execution_count": 28,
   "id": "b431e601-1dd4-42d7-9c27-3e418d64d018",
   "metadata": {},
   "outputs": [
    {
     "data": {
      "text/plain": [
       "453"
      ]
     },
     "execution_count": 28,
     "metadata": {},
     "output_type": "execute_result"
    }
   ],
   "source": [
    "len(normalized_train)"
   ]
  },
  {
   "cell_type": "code",
   "execution_count": 29,
   "id": "1ab43bf0-9279-4aa3-b398-f3e8a1ba4dd7",
   "metadata": {},
   "outputs": [
    {
     "data": {
      "text/plain": [
       "13"
      ]
     },
     "execution_count": 29,
     "metadata": {},
     "output_type": "execute_result"
    }
   ],
   "source": [
    "len(train_tsGenerator60)"
   ]
  },
  {
   "cell_type": "code",
   "execution_count": 30,
   "id": "c9e57c6f-f4c9-4243-b524-ffb4269b3ec8",
   "metadata": {},
   "outputs": [],
   "source": [
    "# What does the first batch look like?"
   ]
  },
  {
   "cell_type": "code",
   "execution_count": 31,
   "id": "b4c74544-5c8f-4f4e-a26c-3212da074630",
   "metadata": {},
   "outputs": [],
   "source": [
    "X,y = train_tsGenerator60[0]"
   ]
  },
  {
   "cell_type": "code",
   "execution_count": 32,
   "id": "425c6be9-f993-4bf5-87dd-63af5d00b606",
   "metadata": {},
   "outputs": [
    {
     "name": "stdout",
     "output_type": "stream",
     "text": [
      "[[[0.43480646]\n",
      "  [0.43165971]\n",
      "  [0.52838966]\n",
      "  ...\n",
      "  [0.3554522 ]\n",
      "  [0.3833629 ]\n",
      "  [0.41496795]]\n",
      "\n",
      " [[0.43165971]\n",
      "  [0.52838966]\n",
      "  [0.44643584]\n",
      "  ...\n",
      "  [0.3833629 ]\n",
      "  [0.41496795]\n",
      "  [0.39772879]]\n",
      "\n",
      " [[0.52838966]\n",
      "  [0.44643584]\n",
      "  [0.45067736]\n",
      "  ...\n",
      "  [0.41496795]\n",
      "  [0.39772879]\n",
      "  [0.3821316 ]]\n",
      "\n",
      " ...\n",
      "\n",
      " [[0.32412107]\n",
      "  [0.31385974]\n",
      "  [0.24107266]\n",
      "  ...\n",
      "  [0.49746896]\n",
      "  [0.46367499]\n",
      "  [0.44055277]]\n",
      "\n",
      " [[0.31385974]\n",
      "  [0.24107266]\n",
      "  [0.16568624]\n",
      "  ...\n",
      "  [0.46367499]\n",
      "  [0.44055277]\n",
      "  [0.45067736]]\n",
      "\n",
      " [[0.24107266]\n",
      "  [0.16568624]\n",
      "  [0.09385699]\n",
      "  ...\n",
      "  [0.44055277]\n",
      "  [0.45067736]\n",
      "  [0.42126145]]]\n"
     ]
    }
   ],
   "source": [
    " print(X)"
   ]
  },
  {
   "cell_type": "code",
   "execution_count": 33,
   "id": "2161f6a8-53f6-4088-8f65-587831d2d1b6",
   "metadata": {},
   "outputs": [
    {
     "name": "stdout",
     "output_type": "stream",
     "text": [
      "[[0.39772879]\n",
      " [0.3821316 ]\n",
      " [0.36366134]\n",
      " [0.43466951]\n",
      " [0.44233147]\n",
      " [0.51292921]\n",
      " [0.49924745]\n",
      " [0.47872481]\n",
      " [0.56245732]\n",
      " [0.55807906]\n",
      " [0.55178556]\n",
      " [0.54521817]\n",
      " [0.5459023 ]\n",
      " [0.6050076 ]\n",
      " [0.59474628]\n",
      " [0.64413745]\n",
      " [0.65905052]\n",
      " [0.6568614 ]\n",
      " [0.67765773]\n",
      " [0.6721849 ]\n",
      " [0.636202  ]\n",
      " [0.58215909]\n",
      " [0.57750714]\n",
      " [0.58161171]\n",
      " [0.61581611]\n",
      " [0.52811597]\n",
      " [0.49746896]\n",
      " [0.46367499]\n",
      " [0.44055277]\n",
      " [0.45067736]\n",
      " [0.42126145]\n",
      " [0.40374881]]\n"
     ]
    }
   ],
   "source": [
    "print(y)"
   ]
  },
  {
   "cell_type": "markdown",
   "id": "cd760112-2913-4a8e-9301-0502849d2a8f",
   "metadata": {},
   "source": [
    "## Build, Train, and Test Model"
   ]
  },
  {
   "cell_type": "markdown",
   "id": "2fef0191-f72a-4151-873e-0f0544f7f7fe",
   "metadata": {},
   "source": [
    "#### Build LSTM Model"
   ]
  },
  {
   "cell_type": "code",
   "execution_count": 34,
   "id": "42a88c9c-af49-4da7-a8c4-5ace5ca8f33f",
   "metadata": {},
   "outputs": [],
   "source": [
    "# set number of features\n",
    "# Features: Attributes/Variable of the Dataset - used as predictors\n",
    "\n",
    "# Only using one feature: close price\n",
    "n_features = 1"
   ]
  },
  {
   "cell_type": "code",
   "execution_count": 35,
   "id": "fd0600e9-ce89-4117-9576-b5dfbd68f36f",
   "metadata": {},
   "outputs": [
    {
     "name": "stderr",
     "output_type": "stream",
     "text": [
      "/opt/conda/lib/python3.10/site-packages/keras/src/layers/rnn/rnn.py:204: UserWarning: Do not pass an `input_shape`/`input_dim` argument to a layer. When using Sequential models, prefer using an `Input(shape)` object as the first layer in the model instead.\n",
      "  super().__init__(**kwargs)\n"
     ]
    }
   ],
   "source": [
    "# define model\n",
    "model = Sequential()\n",
    "\n",
    "#Add an LSTM layer \n",
    "# This layer has  lstm cells\n",
    "# Activation function: relu\n",
    "# Must: return_sequence=True\n",
    "#--) Because of Multiple LSTM layers: the layer are stacked\n",
    "#--) Outputs = inputs of the next LSTM layer\n",
    "model.add(LSTM(50, activation='relu', return_sequences=True, input_shape=(length60, n_features)))\n",
    "\n",
    "#Dropout layer\n",
    "model.add(Dropout(0.2))\n",
    "\n",
    "# Add 2nd LSTM layer\n",
    "# Must: return_sequence=True\n",
    "#--) because of Multiple LTSM layers: the layers are stacked\n",
    "#--) Outputs = inputs of the next LSTM layer\n",
    "model.add(LSTM(units=50, activation='relu', return_sequences=True,))\n",
    "\n",
    "#Dropout layer\n",
    "model.add(Dropout(0.2))\n",
    "\n",
    "# Add the 3rd LSTM layer\n",
    "model.add(LSTM(units=50, activation='relu'))\n",
    "\n",
    "# Add a FC (fully-connected) layer for the final prediction\n",
    "model.add(Dense(1))"
   ]
  },
  {
   "cell_type": "markdown",
   "id": "5f5c050f-80d5-4d23-bf5e-a2fcbb5589fe",
   "metadata": {},
   "source": [
    "#### Compile Model"
   ]
  },
  {
   "cell_type": "code",
   "execution_count": 36,
   "id": "c11e18d3-e7c4-484e-a0a8-c8cfc87202a0",
   "metadata": {},
   "outputs": [
    {
     "data": {
      "text/html": [
       "<pre style=\"white-space:pre;overflow-x:auto;line-height:normal;font-family:Menlo,'DejaVu Sans Mono',consolas,'Courier New',monospace\"><span style=\"font-weight: bold\">Model: \"sequential\"</span>\n",
       "</pre>\n"
      ],
      "text/plain": [
       "\u001b[1mModel: \"sequential\"\u001b[0m\n"
      ]
     },
     "metadata": {},
     "output_type": "display_data"
    },
    {
     "data": {
      "text/html": [
       "<pre style=\"white-space:pre;overflow-x:auto;line-height:normal;font-family:Menlo,'DejaVu Sans Mono',consolas,'Courier New',monospace\">┏━━━━━━━━━━━━━━━━━━━━━━━━━━━━━━━━━┳━━━━━━━━━━━━━━━━━━━━━━━━┳━━━━━━━━━━━━━━━┓\n",
       "┃<span style=\"font-weight: bold\"> Layer (type)                    </span>┃<span style=\"font-weight: bold\"> Output Shape           </span>┃<span style=\"font-weight: bold\">       Param # </span>┃\n",
       "┡━━━━━━━━━━━━━━━━━━━━━━━━━━━━━━━━━╇━━━━━━━━━━━━━━━━━━━━━━━━╇━━━━━━━━━━━━━━━┩\n",
       "│ lstm (<span style=\"color: #0087ff; text-decoration-color: #0087ff\">LSTM</span>)                     │ (<span style=\"color: #00d7ff; text-decoration-color: #00d7ff\">None</span>, <span style=\"color: #00af00; text-decoration-color: #00af00\">60</span>, <span style=\"color: #00af00; text-decoration-color: #00af00\">50</span>)         │        <span style=\"color: #00af00; text-decoration-color: #00af00\">10,400</span> │\n",
       "├─────────────────────────────────┼────────────────────────┼───────────────┤\n",
       "│ dropout (<span style=\"color: #0087ff; text-decoration-color: #0087ff\">Dropout</span>)               │ (<span style=\"color: #00d7ff; text-decoration-color: #00d7ff\">None</span>, <span style=\"color: #00af00; text-decoration-color: #00af00\">60</span>, <span style=\"color: #00af00; text-decoration-color: #00af00\">50</span>)         │             <span style=\"color: #00af00; text-decoration-color: #00af00\">0</span> │\n",
       "├─────────────────────────────────┼────────────────────────┼───────────────┤\n",
       "│ lstm_1 (<span style=\"color: #0087ff; text-decoration-color: #0087ff\">LSTM</span>)                   │ (<span style=\"color: #00d7ff; text-decoration-color: #00d7ff\">None</span>, <span style=\"color: #00af00; text-decoration-color: #00af00\">60</span>, <span style=\"color: #00af00; text-decoration-color: #00af00\">50</span>)         │        <span style=\"color: #00af00; text-decoration-color: #00af00\">20,200</span> │\n",
       "├─────────────────────────────────┼────────────────────────┼───────────────┤\n",
       "│ dropout_1 (<span style=\"color: #0087ff; text-decoration-color: #0087ff\">Dropout</span>)             │ (<span style=\"color: #00d7ff; text-decoration-color: #00d7ff\">None</span>, <span style=\"color: #00af00; text-decoration-color: #00af00\">60</span>, <span style=\"color: #00af00; text-decoration-color: #00af00\">50</span>)         │             <span style=\"color: #00af00; text-decoration-color: #00af00\">0</span> │\n",
       "├─────────────────────────────────┼────────────────────────┼───────────────┤\n",
       "│ lstm_2 (<span style=\"color: #0087ff; text-decoration-color: #0087ff\">LSTM</span>)                   │ (<span style=\"color: #00d7ff; text-decoration-color: #00d7ff\">None</span>, <span style=\"color: #00af00; text-decoration-color: #00af00\">50</span>)             │        <span style=\"color: #00af00; text-decoration-color: #00af00\">20,200</span> │\n",
       "├─────────────────────────────────┼────────────────────────┼───────────────┤\n",
       "│ dense (<span style=\"color: #0087ff; text-decoration-color: #0087ff\">Dense</span>)                   │ (<span style=\"color: #00d7ff; text-decoration-color: #00d7ff\">None</span>, <span style=\"color: #00af00; text-decoration-color: #00af00\">1</span>)              │            <span style=\"color: #00af00; text-decoration-color: #00af00\">51</span> │\n",
       "└─────────────────────────────────┴────────────────────────┴───────────────┘\n",
       "</pre>\n"
      ],
      "text/plain": [
       "┏━━━━━━━━━━━━━━━━━━━━━━━━━━━━━━━━━┳━━━━━━━━━━━━━━━━━━━━━━━━┳━━━━━━━━━━━━━━━┓\n",
       "┃\u001b[1m \u001b[0m\u001b[1mLayer (type)                   \u001b[0m\u001b[1m \u001b[0m┃\u001b[1m \u001b[0m\u001b[1mOutput Shape          \u001b[0m\u001b[1m \u001b[0m┃\u001b[1m \u001b[0m\u001b[1m      Param #\u001b[0m\u001b[1m \u001b[0m┃\n",
       "┡━━━━━━━━━━━━━━━━━━━━━━━━━━━━━━━━━╇━━━━━━━━━━━━━━━━━━━━━━━━╇━━━━━━━━━━━━━━━┩\n",
       "│ lstm (\u001b[38;5;33mLSTM\u001b[0m)                     │ (\u001b[38;5;45mNone\u001b[0m, \u001b[38;5;34m60\u001b[0m, \u001b[38;5;34m50\u001b[0m)         │        \u001b[38;5;34m10,400\u001b[0m │\n",
       "├─────────────────────────────────┼────────────────────────┼───────────────┤\n",
       "│ dropout (\u001b[38;5;33mDropout\u001b[0m)               │ (\u001b[38;5;45mNone\u001b[0m, \u001b[38;5;34m60\u001b[0m, \u001b[38;5;34m50\u001b[0m)         │             \u001b[38;5;34m0\u001b[0m │\n",
       "├─────────────────────────────────┼────────────────────────┼───────────────┤\n",
       "│ lstm_1 (\u001b[38;5;33mLSTM\u001b[0m)                   │ (\u001b[38;5;45mNone\u001b[0m, \u001b[38;5;34m60\u001b[0m, \u001b[38;5;34m50\u001b[0m)         │        \u001b[38;5;34m20,200\u001b[0m │\n",
       "├─────────────────────────────────┼────────────────────────┼───────────────┤\n",
       "│ dropout_1 (\u001b[38;5;33mDropout\u001b[0m)             │ (\u001b[38;5;45mNone\u001b[0m, \u001b[38;5;34m60\u001b[0m, \u001b[38;5;34m50\u001b[0m)         │             \u001b[38;5;34m0\u001b[0m │\n",
       "├─────────────────────────────────┼────────────────────────┼───────────────┤\n",
       "│ lstm_2 (\u001b[38;5;33mLSTM\u001b[0m)                   │ (\u001b[38;5;45mNone\u001b[0m, \u001b[38;5;34m50\u001b[0m)             │        \u001b[38;5;34m20,200\u001b[0m │\n",
       "├─────────────────────────────────┼────────────────────────┼───────────────┤\n",
       "│ dense (\u001b[38;5;33mDense\u001b[0m)                   │ (\u001b[38;5;45mNone\u001b[0m, \u001b[38;5;34m1\u001b[0m)              │            \u001b[38;5;34m51\u001b[0m │\n",
       "└─────────────────────────────────┴────────────────────────┴───────────────┘\n"
      ]
     },
     "metadata": {},
     "output_type": "display_data"
    },
    {
     "data": {
      "text/html": [
       "<pre style=\"white-space:pre;overflow-x:auto;line-height:normal;font-family:Menlo,'DejaVu Sans Mono',consolas,'Courier New',monospace\"><span style=\"font-weight: bold\"> Total params: </span><span style=\"color: #00af00; text-decoration-color: #00af00\">50,851</span> (198.64 KB)\n",
       "</pre>\n"
      ],
      "text/plain": [
       "\u001b[1m Total params: \u001b[0m\u001b[38;5;34m50,851\u001b[0m (198.64 KB)\n"
      ]
     },
     "metadata": {},
     "output_type": "display_data"
    },
    {
     "data": {
      "text/html": [
       "<pre style=\"white-space:pre;overflow-x:auto;line-height:normal;font-family:Menlo,'DejaVu Sans Mono',consolas,'Courier New',monospace\"><span style=\"font-weight: bold\"> Trainable params: </span><span style=\"color: #00af00; text-decoration-color: #00af00\">50,851</span> (198.64 KB)\n",
       "</pre>\n"
      ],
      "text/plain": [
       "\u001b[1m Trainable params: \u001b[0m\u001b[38;5;34m50,851\u001b[0m (198.64 KB)\n"
      ]
     },
     "metadata": {},
     "output_type": "display_data"
    },
    {
     "data": {
      "text/html": [
       "<pre style=\"white-space:pre;overflow-x:auto;line-height:normal;font-family:Menlo,'DejaVu Sans Mono',consolas,'Courier New',monospace\"><span style=\"font-weight: bold\"> Non-trainable params: </span><span style=\"color: #00af00; text-decoration-color: #00af00\">0</span> (0.00 B)\n",
       "</pre>\n"
      ],
      "text/plain": [
       "\u001b[1m Non-trainable params: \u001b[0m\u001b[38;5;34m0\u001b[0m (0.00 B)\n"
      ]
     },
     "metadata": {},
     "output_type": "display_data"
    }
   ],
   "source": [
    "# Compile the model\n",
    "model.compile(optimizer='adam', loss='mse')\n",
    "\n",
    "model.summary()"
   ]
  },
  {
   "cell_type": "markdown",
   "id": "528460fa-873e-42ac-9898-cb0333e17b3c",
   "metadata": {},
   "source": [
    "### Train (Fit) Model Using fit_generator()"
   ]
  },
  {
   "cell_type": "code",
   "execution_count": 37,
   "id": "96874793",
   "metadata": {},
   "outputs": [
    {
     "name": "stdout",
     "output_type": "stream",
     "text": [
      "Epoch 1/100\n",
      "\u001b[1m 2/13\u001b[0m \u001b[32m━━━\u001b[0m\u001b[37m━━━━━━━━━━━━━━━━━\u001b[0m \u001b[1m0s\u001b[0m 65ms/step - loss: 0.0774"
     ]
    },
    {
     "name": "stderr",
     "output_type": "stream",
     "text": [
      "/opt/conda/lib/python3.10/site-packages/keras/src/trainers/data_adapters/py_dataset_adapter.py:122: UserWarning: Your `PyDataset` class should call `super().__init__(**kwargs)` in its constructor. `**kwargs` can include `workers`, `use_multiprocessing`, `max_queue_size`. Do not pass these arguments to `fit()`, as they will be ignored.\n",
      "  self._warn_if_super_not_called()\n"
     ]
    },
    {
     "name": "stdout",
     "output_type": "stream",
     "text": [
      "\u001b[1m13/13\u001b[0m \u001b[32m━━━━━━━━━━━━━━━━━━━━\u001b[0m\u001b[37m\u001b[0m \u001b[1m4s\u001b[0m 58ms/step - loss: 0.2434\n",
      "Epoch 2/100\n",
      "\u001b[1m13/13\u001b[0m \u001b[32m━━━━━━━━━━━━━━━━━━━━\u001b[0m\u001b[37m\u001b[0m \u001b[1m1s\u001b[0m 57ms/step - loss: 0.1123\n",
      "Epoch 3/100\n",
      "\u001b[1m13/13\u001b[0m \u001b[32m━━━━━━━━━━━━━━━━━━━━\u001b[0m\u001b[37m\u001b[0m \u001b[1m1s\u001b[0m 57ms/step - loss: 0.1054\n",
      "Epoch 4/100\n",
      "\u001b[1m13/13\u001b[0m \u001b[32m━━━━━━━━━━━━━━━━━━━━\u001b[0m\u001b[37m\u001b[0m \u001b[1m1s\u001b[0m 57ms/step - loss: 0.0583\n",
      "Epoch 5/100\n",
      "\u001b[1m13/13\u001b[0m \u001b[32m━━━━━━━━━━━━━━━━━━━━\u001b[0m\u001b[37m\u001b[0m \u001b[1m1s\u001b[0m 57ms/step - loss: 0.0203\n",
      "Epoch 6/100\n",
      "\u001b[1m13/13\u001b[0m \u001b[32m━━━━━━━━━━━━━━━━━━━━\u001b[0m\u001b[37m\u001b[0m \u001b[1m1s\u001b[0m 57ms/step - loss: 0.0303\n",
      "Epoch 7/100\n",
      "\u001b[1m13/13\u001b[0m \u001b[32m━━━━━━━━━━━━━━━━━━━━\u001b[0m\u001b[37m\u001b[0m \u001b[1m1s\u001b[0m 56ms/step - loss: 0.0170\n",
      "Epoch 8/100\n",
      "\u001b[1m13/13\u001b[0m \u001b[32m━━━━━━━━━━━━━━━━━━━━\u001b[0m\u001b[37m\u001b[0m \u001b[1m1s\u001b[0m 57ms/step - loss: 0.0157\n",
      "Epoch 9/100\n",
      "\u001b[1m13/13\u001b[0m \u001b[32m━━━━━━━━━━━━━━━━━━━━\u001b[0m\u001b[37m\u001b[0m \u001b[1m1s\u001b[0m 59ms/step - loss: 0.0178\n",
      "Epoch 10/100\n",
      "\u001b[1m13/13\u001b[0m \u001b[32m━━━━━━━━━━━━━━━━━━━━\u001b[0m\u001b[37m\u001b[0m \u001b[1m1s\u001b[0m 57ms/step - loss: 0.0119\n",
      "Epoch 11/100\n",
      "\u001b[1m13/13\u001b[0m \u001b[32m━━━━━━━━━━━━━━━━━━━━\u001b[0m\u001b[37m\u001b[0m \u001b[1m1s\u001b[0m 57ms/step - loss: 0.0192\n",
      "Epoch 12/100\n",
      "\u001b[1m13/13\u001b[0m \u001b[32m━━━━━━━━━━━━━━━━━━━━\u001b[0m\u001b[37m\u001b[0m \u001b[1m1s\u001b[0m 57ms/step - loss: 0.0150\n",
      "Epoch 13/100\n",
      "\u001b[1m13/13\u001b[0m \u001b[32m━━━━━━━━━━━━━━━━━━━━\u001b[0m\u001b[37m\u001b[0m \u001b[1m1s\u001b[0m 58ms/step - loss: 0.0124\n",
      "Epoch 14/100\n",
      "\u001b[1m13/13\u001b[0m \u001b[32m━━━━━━━━━━━━━━━━━━━━\u001b[0m\u001b[37m\u001b[0m \u001b[1m1s\u001b[0m 58ms/step - loss: 0.0121\n",
      "Epoch 15/100\n",
      "\u001b[1m13/13\u001b[0m \u001b[32m━━━━━━━━━━━━━━━━━━━━\u001b[0m\u001b[37m\u001b[0m \u001b[1m1s\u001b[0m 57ms/step - loss: 0.0126\n",
      "Epoch 16/100\n",
      "\u001b[1m13/13\u001b[0m \u001b[32m━━━━━━━━━━━━━━━━━━━━\u001b[0m\u001b[37m\u001b[0m \u001b[1m1s\u001b[0m 57ms/step - loss: 0.0155\n",
      "Epoch 17/100\n",
      "\u001b[1m13/13\u001b[0m \u001b[32m━━━━━━━━━━━━━━━━━━━━\u001b[0m\u001b[37m\u001b[0m \u001b[1m1s\u001b[0m 58ms/step - loss: 0.0121\n",
      "Epoch 18/100\n",
      "\u001b[1m13/13\u001b[0m \u001b[32m━━━━━━━━━━━━━━━━━━━━\u001b[0m\u001b[37m\u001b[0m \u001b[1m1s\u001b[0m 58ms/step - loss: 0.0167\n",
      "Epoch 19/100\n",
      "\u001b[1m13/13\u001b[0m \u001b[32m━━━━━━━━━━━━━━━━━━━━\u001b[0m\u001b[37m\u001b[0m \u001b[1m1s\u001b[0m 57ms/step - loss: 0.0151\n",
      "Epoch 20/100\n",
      "\u001b[1m13/13\u001b[0m \u001b[32m━━━━━━━━━━━━━━━━━━━━\u001b[0m\u001b[37m\u001b[0m \u001b[1m1s\u001b[0m 58ms/step - loss: 0.0139\n",
      "Epoch 21/100\n",
      "\u001b[1m13/13\u001b[0m \u001b[32m━━━━━━━━━━━━━━━━━━━━\u001b[0m\u001b[37m\u001b[0m \u001b[1m1s\u001b[0m 57ms/step - loss: 0.0189\n",
      "Epoch 22/100\n",
      "\u001b[1m13/13\u001b[0m \u001b[32m━━━━━━━━━━━━━━━━━━━━\u001b[0m\u001b[37m\u001b[0m \u001b[1m1s\u001b[0m 57ms/step - loss: 0.0173\n",
      "Epoch 23/100\n",
      "\u001b[1m13/13\u001b[0m \u001b[32m━━━━━━━━━━━━━━━━━━━━\u001b[0m\u001b[37m\u001b[0m \u001b[1m1s\u001b[0m 56ms/step - loss: 0.0189\n",
      "Epoch 24/100\n",
      "\u001b[1m13/13\u001b[0m \u001b[32m━━━━━━━━━━━━━━━━━━━━\u001b[0m\u001b[37m\u001b[0m \u001b[1m1s\u001b[0m 58ms/step - loss: 0.0127\n",
      "Epoch 25/100\n",
      "\u001b[1m13/13\u001b[0m \u001b[32m━━━━━━━━━━━━━━━━━━━━\u001b[0m\u001b[37m\u001b[0m \u001b[1m1s\u001b[0m 57ms/step - loss: 0.0144\n",
      "Epoch 26/100\n",
      "\u001b[1m13/13\u001b[0m \u001b[32m━━━━━━━━━━━━━━━━━━━━\u001b[0m\u001b[37m\u001b[0m \u001b[1m1s\u001b[0m 57ms/step - loss: 0.0163\n",
      "Epoch 27/100\n",
      "\u001b[1m13/13\u001b[0m \u001b[32m━━━━━━━━━━━━━━━━━━━━\u001b[0m\u001b[37m\u001b[0m \u001b[1m1s\u001b[0m 57ms/step - loss: 0.0103\n",
      "Epoch 28/100\n",
      "\u001b[1m13/13\u001b[0m \u001b[32m━━━━━━━━━━━━━━━━━━━━\u001b[0m\u001b[37m\u001b[0m \u001b[1m1s\u001b[0m 57ms/step - loss: 0.0115\n",
      "Epoch 29/100\n",
      "\u001b[1m13/13\u001b[0m \u001b[32m━━━━━━━━━━━━━━━━━━━━\u001b[0m\u001b[37m\u001b[0m \u001b[1m1s\u001b[0m 57ms/step - loss: 0.0161\n",
      "Epoch 30/100\n",
      "\u001b[1m13/13\u001b[0m \u001b[32m━━━━━━━━━━━━━━━━━━━━\u001b[0m\u001b[37m\u001b[0m \u001b[1m1s\u001b[0m 57ms/step - loss: 0.0153\n",
      "Epoch 31/100\n",
      "\u001b[1m13/13\u001b[0m \u001b[32m━━━━━━━━━━━━━━━━━━━━\u001b[0m\u001b[37m\u001b[0m \u001b[1m1s\u001b[0m 57ms/step - loss: 0.0227\n",
      "Epoch 32/100\n",
      "\u001b[1m13/13\u001b[0m \u001b[32m━━━━━━━━━━━━━━━━━━━━\u001b[0m\u001b[37m\u001b[0m \u001b[1m1s\u001b[0m 57ms/step - loss: 0.0220\n",
      "Epoch 33/100\n",
      "\u001b[1m13/13\u001b[0m \u001b[32m━━━━━━━━━━━━━━━━━━━━\u001b[0m\u001b[37m\u001b[0m \u001b[1m1s\u001b[0m 57ms/step - loss: 0.0132\n",
      "Epoch 34/100\n",
      "\u001b[1m13/13\u001b[0m \u001b[32m━━━━━━━━━━━━━━━━━━━━\u001b[0m\u001b[37m\u001b[0m \u001b[1m1s\u001b[0m 58ms/step - loss: 0.0106\n",
      "Epoch 35/100\n",
      "\u001b[1m13/13\u001b[0m \u001b[32m━━━━━━━━━━━━━━━━━━━━\u001b[0m\u001b[37m\u001b[0m \u001b[1m1s\u001b[0m 57ms/step - loss: 0.0128\n",
      "Epoch 36/100\n",
      "\u001b[1m13/13\u001b[0m \u001b[32m━━━━━━━━━━━━━━━━━━━━\u001b[0m\u001b[37m\u001b[0m \u001b[1m1s\u001b[0m 57ms/step - loss: 0.0118\n",
      "Epoch 37/100\n",
      "\u001b[1m13/13\u001b[0m \u001b[32m━━━━━━━━━━━━━━━━━━━━\u001b[0m\u001b[37m\u001b[0m \u001b[1m1s\u001b[0m 58ms/step - loss: 0.0090\n",
      "Epoch 38/100\n",
      "\u001b[1m13/13\u001b[0m \u001b[32m━━━━━━━━━━━━━━━━━━━━\u001b[0m\u001b[37m\u001b[0m \u001b[1m1s\u001b[0m 58ms/step - loss: 0.0139\n",
      "Epoch 39/100\n",
      "\u001b[1m13/13\u001b[0m \u001b[32m━━━━━━━━━━━━━━━━━━━━\u001b[0m\u001b[37m\u001b[0m \u001b[1m1s\u001b[0m 57ms/step - loss: 0.0100\n",
      "Epoch 40/100\n",
      "\u001b[1m13/13\u001b[0m \u001b[32m━━━━━━━━━━━━━━━━━━━━\u001b[0m\u001b[37m\u001b[0m \u001b[1m1s\u001b[0m 57ms/step - loss: 0.0114\n",
      "Epoch 41/100\n",
      "\u001b[1m13/13\u001b[0m \u001b[32m━━━━━━━━━━━━━━━━━━━━\u001b[0m\u001b[37m\u001b[0m \u001b[1m1s\u001b[0m 57ms/step - loss: 0.0149\n",
      "Epoch 42/100\n",
      "\u001b[1m13/13\u001b[0m \u001b[32m━━━━━━━━━━━━━━━━━━━━\u001b[0m\u001b[37m\u001b[0m \u001b[1m1s\u001b[0m 56ms/step - loss: 0.0126\n",
      "Epoch 43/100\n",
      "\u001b[1m13/13\u001b[0m \u001b[32m━━━━━━━━━━━━━━━━━━━━\u001b[0m\u001b[37m\u001b[0m \u001b[1m1s\u001b[0m 57ms/step - loss: 0.0119\n",
      "Epoch 44/100\n",
      "\u001b[1m13/13\u001b[0m \u001b[32m━━━━━━━━━━━━━━━━━━━━\u001b[0m\u001b[37m\u001b[0m \u001b[1m1s\u001b[0m 57ms/step - loss: 0.0099\n",
      "Epoch 45/100\n",
      "\u001b[1m13/13\u001b[0m \u001b[32m━━━━━━━━━━━━━━━━━━━━\u001b[0m\u001b[37m\u001b[0m \u001b[1m1s\u001b[0m 57ms/step - loss: 0.0092\n",
      "Epoch 46/100\n",
      "\u001b[1m13/13\u001b[0m \u001b[32m━━━━━━━━━━━━━━━━━━━━\u001b[0m\u001b[37m\u001b[0m \u001b[1m1s\u001b[0m 57ms/step - loss: 0.0095\n",
      "Epoch 47/100\n",
      "\u001b[1m13/13\u001b[0m \u001b[32m━━━━━━━━━━━━━━━━━━━━\u001b[0m\u001b[37m\u001b[0m \u001b[1m1s\u001b[0m 57ms/step - loss: 0.0119\n",
      "Epoch 48/100\n",
      "\u001b[1m13/13\u001b[0m \u001b[32m━━━━━━━━━━━━━━━━━━━━\u001b[0m\u001b[37m\u001b[0m \u001b[1m1s\u001b[0m 58ms/step - loss: 0.0127\n",
      "Epoch 49/100\n",
      "\u001b[1m13/13\u001b[0m \u001b[32m━━━━━━━━━━━━━━━━━━━━\u001b[0m\u001b[37m\u001b[0m \u001b[1m1s\u001b[0m 57ms/step - loss: 0.0098\n",
      "Epoch 50/100\n",
      "\u001b[1m13/13\u001b[0m \u001b[32m━━━━━━━━━━━━━━━━━━━━\u001b[0m\u001b[37m\u001b[0m \u001b[1m1s\u001b[0m 58ms/step - loss: 0.0130\n",
      "Epoch 51/100\n",
      "\u001b[1m13/13\u001b[0m \u001b[32m━━━━━━━━━━━━━━━━━━━━\u001b[0m\u001b[37m\u001b[0m \u001b[1m1s\u001b[0m 57ms/step - loss: 0.0093\n",
      "Epoch 52/100\n",
      "\u001b[1m13/13\u001b[0m \u001b[32m━━━━━━━━━━━━━━━━━━━━\u001b[0m\u001b[37m\u001b[0m \u001b[1m1s\u001b[0m 57ms/step - loss: 0.0103\n",
      "Epoch 53/100\n",
      "\u001b[1m13/13\u001b[0m \u001b[32m━━━━━━━━━━━━━━━━━━━━\u001b[0m\u001b[37m\u001b[0m \u001b[1m1s\u001b[0m 57ms/step - loss: 0.0098\n",
      "Epoch 54/100\n",
      "\u001b[1m13/13\u001b[0m \u001b[32m━━━━━━━━━━━━━━━━━━━━\u001b[0m\u001b[37m\u001b[0m \u001b[1m1s\u001b[0m 57ms/step - loss: 0.0114\n",
      "Epoch 55/100\n",
      "\u001b[1m13/13\u001b[0m \u001b[32m━━━━━━━━━━━━━━━━━━━━\u001b[0m\u001b[37m\u001b[0m \u001b[1m1s\u001b[0m 57ms/step - loss: 0.0123\n",
      "Epoch 56/100\n",
      "\u001b[1m13/13\u001b[0m \u001b[32m━━━━━━━━━━━━━━━━━━━━\u001b[0m\u001b[37m\u001b[0m \u001b[1m1s\u001b[0m 57ms/step - loss: 0.0097\n",
      "Epoch 57/100\n",
      "\u001b[1m13/13\u001b[0m \u001b[32m━━━━━━━━━━━━━━━━━━━━\u001b[0m\u001b[37m\u001b[0m \u001b[1m1s\u001b[0m 58ms/step - loss: 0.0117\n",
      "Epoch 58/100\n",
      "\u001b[1m13/13\u001b[0m \u001b[32m━━━━━━━━━━━━━━━━━━━━\u001b[0m\u001b[37m\u001b[0m \u001b[1m1s\u001b[0m 58ms/step - loss: 0.0097\n",
      "Epoch 59/100\n",
      "\u001b[1m13/13\u001b[0m \u001b[32m━━━━━━━━━━━━━━━━━━━━\u001b[0m\u001b[37m\u001b[0m \u001b[1m1s\u001b[0m 57ms/step - loss: 0.0096\n",
      "Epoch 60/100\n",
      "\u001b[1m13/13\u001b[0m \u001b[32m━━━━━━━━━━━━━━━━━━━━\u001b[0m\u001b[37m\u001b[0m \u001b[1m1s\u001b[0m 57ms/step - loss: 0.0080\n",
      "Epoch 61/100\n",
      "\u001b[1m13/13\u001b[0m \u001b[32m━━━━━━━━━━━━━━━━━━━━\u001b[0m\u001b[37m\u001b[0m \u001b[1m1s\u001b[0m 58ms/step - loss: 0.0097\n",
      "Epoch 62/100\n",
      "\u001b[1m13/13\u001b[0m \u001b[32m━━━━━━━━━━━━━━━━━━━━\u001b[0m\u001b[37m\u001b[0m \u001b[1m1s\u001b[0m 57ms/step - loss: 0.0086\n",
      "Epoch 63/100\n",
      "\u001b[1m13/13\u001b[0m \u001b[32m━━━━━━━━━━━━━━━━━━━━\u001b[0m\u001b[37m\u001b[0m \u001b[1m1s\u001b[0m 57ms/step - loss: 0.0100\n",
      "Epoch 64/100\n",
      "\u001b[1m13/13\u001b[0m \u001b[32m━━━━━━━━━━━━━━━━━━━━\u001b[0m\u001b[37m\u001b[0m \u001b[1m1s\u001b[0m 57ms/step - loss: 0.0122\n",
      "Epoch 65/100\n",
      "\u001b[1m13/13\u001b[0m \u001b[32m━━━━━━━━━━━━━━━━━━━━\u001b[0m\u001b[37m\u001b[0m \u001b[1m1s\u001b[0m 58ms/step - loss: 0.0081\n",
      "Epoch 66/100\n",
      "\u001b[1m13/13\u001b[0m \u001b[32m━━━━━━━━━━━━━━━━━━━━\u001b[0m\u001b[37m\u001b[0m \u001b[1m1s\u001b[0m 57ms/step - loss: 0.0080\n",
      "Epoch 67/100\n",
      "\u001b[1m13/13\u001b[0m \u001b[32m━━━━━━━━━━━━━━━━━━━━\u001b[0m\u001b[37m\u001b[0m \u001b[1m1s\u001b[0m 57ms/step - loss: 0.0091\n",
      "Epoch 68/100\n",
      "\u001b[1m13/13\u001b[0m \u001b[32m━━━━━━━━━━━━━━━━━━━━\u001b[0m\u001b[37m\u001b[0m \u001b[1m1s\u001b[0m 58ms/step - loss: 0.0098\n",
      "Epoch 69/100\n",
      "\u001b[1m13/13\u001b[0m \u001b[32m━━━━━━━━━━━━━━━━━━━━\u001b[0m\u001b[37m\u001b[0m \u001b[1m1s\u001b[0m 56ms/step - loss: 0.0068\n",
      "Epoch 70/100\n",
      "\u001b[1m13/13\u001b[0m \u001b[32m━━━━━━━━━━━━━━━━━━━━\u001b[0m\u001b[37m\u001b[0m \u001b[1m1s\u001b[0m 58ms/step - loss: 0.0102\n",
      "Epoch 71/100\n",
      "\u001b[1m13/13\u001b[0m \u001b[32m━━━━━━━━━━━━━━━━━━━━\u001b[0m\u001b[37m\u001b[0m \u001b[1m1s\u001b[0m 57ms/step - loss: 0.0087\n",
      "Epoch 72/100\n",
      "\u001b[1m13/13\u001b[0m \u001b[32m━━━━━━━━━━━━━━━━━━━━\u001b[0m\u001b[37m\u001b[0m \u001b[1m1s\u001b[0m 58ms/step - loss: 0.0085\n",
      "Epoch 73/100\n",
      "\u001b[1m13/13\u001b[0m \u001b[32m━━━━━━━━━━━━━━━━━━━━\u001b[0m\u001b[37m\u001b[0m \u001b[1m1s\u001b[0m 57ms/step - loss: 0.0099\n",
      "Epoch 74/100\n",
      "\u001b[1m13/13\u001b[0m \u001b[32m━━━━━━━━━━━━━━━━━━━━\u001b[0m\u001b[37m\u001b[0m \u001b[1m1s\u001b[0m 57ms/step - loss: 0.0085\n",
      "Epoch 75/100\n",
      "\u001b[1m13/13\u001b[0m \u001b[32m━━━━━━━━━━━━━━━━━━━━\u001b[0m\u001b[37m\u001b[0m \u001b[1m1s\u001b[0m 58ms/step - loss: 0.0093\n",
      "Epoch 76/100\n",
      "\u001b[1m13/13\u001b[0m \u001b[32m━━━━━━━━━━━━━━━━━━━━\u001b[0m\u001b[37m\u001b[0m \u001b[1m1s\u001b[0m 62ms/step - loss: 0.0057\n",
      "Epoch 77/100\n",
      "\u001b[1m13/13\u001b[0m \u001b[32m━━━━━━━━━━━━━━━━━━━━\u001b[0m\u001b[37m\u001b[0m \u001b[1m1s\u001b[0m 60ms/step - loss: 0.0084\n",
      "Epoch 78/100\n",
      "\u001b[1m13/13\u001b[0m \u001b[32m━━━━━━━━━━━━━━━━━━━━\u001b[0m\u001b[37m\u001b[0m \u001b[1m1s\u001b[0m 61ms/step - loss: 0.0070\n",
      "Epoch 79/100\n",
      "\u001b[1m13/13\u001b[0m \u001b[32m━━━━━━━━━━━━━━━━━━━━\u001b[0m\u001b[37m\u001b[0m \u001b[1m1s\u001b[0m 57ms/step - loss: 0.0082\n",
      "Epoch 80/100\n",
      "\u001b[1m13/13\u001b[0m \u001b[32m━━━━━━━━━━━━━━━━━━━━\u001b[0m\u001b[37m\u001b[0m \u001b[1m1s\u001b[0m 57ms/step - loss: 0.0098\n",
      "Epoch 81/100\n"
     ]
    },
    {
     "name": "stdout",
     "output_type": "stream",
     "text": [
      "\u001b[1m13/13\u001b[0m \u001b[32m━━━━━━━━━━━━━━━━━━━━\u001b[0m\u001b[37m\u001b[0m \u001b[1m1s\u001b[0m 58ms/step - loss: 0.0056\n",
      "Epoch 82/100\n",
      "\u001b[1m13/13\u001b[0m \u001b[32m━━━━━━━━━━━━━━━━━━━━\u001b[0m\u001b[37m\u001b[0m \u001b[1m1s\u001b[0m 58ms/step - loss: 0.0083\n",
      "Epoch 83/100\n",
      "\u001b[1m13/13\u001b[0m \u001b[32m━━━━━━━━━━━━━━━━━━━━\u001b[0m\u001b[37m\u001b[0m \u001b[1m1s\u001b[0m 56ms/step - loss: 0.0144\n",
      "Epoch 84/100\n",
      "\u001b[1m13/13\u001b[0m \u001b[32m━━━━━━━━━━━━━━━━━━━━\u001b[0m\u001b[37m\u001b[0m \u001b[1m1s\u001b[0m 58ms/step - loss: 0.0086\n",
      "Epoch 85/100\n",
      "\u001b[1m13/13\u001b[0m \u001b[32m━━━━━━━━━━━━━━━━━━━━\u001b[0m\u001b[37m\u001b[0m \u001b[1m1s\u001b[0m 57ms/step - loss: 0.0089\n",
      "Epoch 86/100\n",
      "\u001b[1m13/13\u001b[0m \u001b[32m━━━━━━━━━━━━━━━━━━━━\u001b[0m\u001b[37m\u001b[0m \u001b[1m1s\u001b[0m 57ms/step - loss: 0.0069\n",
      "Epoch 87/100\n",
      "\u001b[1m13/13\u001b[0m \u001b[32m━━━━━━━━━━━━━━━━━━━━\u001b[0m\u001b[37m\u001b[0m \u001b[1m1s\u001b[0m 58ms/step - loss: 0.0072\n",
      "Epoch 88/100\n",
      "\u001b[1m13/13\u001b[0m \u001b[32m━━━━━━━━━━━━━━━━━━━━\u001b[0m\u001b[37m\u001b[0m \u001b[1m1s\u001b[0m 56ms/step - loss: 0.0082\n",
      "Epoch 89/100\n",
      "\u001b[1m13/13\u001b[0m \u001b[32m━━━━━━━━━━━━━━━━━━━━\u001b[0m\u001b[37m\u001b[0m \u001b[1m1s\u001b[0m 57ms/step - loss: 0.0077\n",
      "Epoch 90/100\n",
      "\u001b[1m13/13\u001b[0m \u001b[32m━━━━━━━━━━━━━━━━━━━━\u001b[0m\u001b[37m\u001b[0m \u001b[1m1s\u001b[0m 59ms/step - loss: 0.0091\n",
      "Epoch 91/100\n",
      "\u001b[1m13/13\u001b[0m \u001b[32m━━━━━━━━━━━━━━━━━━━━\u001b[0m\u001b[37m\u001b[0m \u001b[1m1s\u001b[0m 57ms/step - loss: 0.0063\n",
      "Epoch 92/100\n",
      "\u001b[1m13/13\u001b[0m \u001b[32m━━━━━━━━━━━━━━━━━━━━\u001b[0m\u001b[37m\u001b[0m \u001b[1m1s\u001b[0m 58ms/step - loss: 0.0089\n",
      "Epoch 93/100\n",
      "\u001b[1m13/13\u001b[0m \u001b[32m━━━━━━━━━━━━━━━━━━━━\u001b[0m\u001b[37m\u001b[0m \u001b[1m1s\u001b[0m 57ms/step - loss: 0.0081\n",
      "Epoch 94/100\n",
      "\u001b[1m13/13\u001b[0m \u001b[32m━━━━━━━━━━━━━━━━━━━━\u001b[0m\u001b[37m\u001b[0m \u001b[1m1s\u001b[0m 58ms/step - loss: 0.0062\n",
      "Epoch 95/100\n",
      "\u001b[1m13/13\u001b[0m \u001b[32m━━━━━━━━━━━━━━━━━━━━\u001b[0m\u001b[37m\u001b[0m \u001b[1m1s\u001b[0m 58ms/step - loss: 0.0053\n",
      "Epoch 96/100\n",
      "\u001b[1m13/13\u001b[0m \u001b[32m━━━━━━━━━━━━━━━━━━━━\u001b[0m\u001b[37m\u001b[0m \u001b[1m1s\u001b[0m 58ms/step - loss: 0.0054\n",
      "Epoch 97/100\n",
      "\u001b[1m13/13\u001b[0m \u001b[32m━━━━━━━━━━━━━━━━━━━━\u001b[0m\u001b[37m\u001b[0m \u001b[1m1s\u001b[0m 56ms/step - loss: 0.0083\n",
      "Epoch 98/100\n",
      "\u001b[1m13/13\u001b[0m \u001b[32m━━━━━━━━━━━━━━━━━━━━\u001b[0m\u001b[37m\u001b[0m \u001b[1m1s\u001b[0m 57ms/step - loss: 0.0080\n",
      "Epoch 99/100\n",
      "\u001b[1m13/13\u001b[0m \u001b[32m━━━━━━━━━━━━━━━━━━━━\u001b[0m\u001b[37m\u001b[0m \u001b[1m1s\u001b[0m 57ms/step - loss: 0.0070\n",
      "Epoch 100/100\n",
      "\u001b[1m13/13\u001b[0m \u001b[32m━━━━━━━━━━━━━━━━━━━━\u001b[0m\u001b[37m\u001b[0m \u001b[1m1s\u001b[0m 57ms/step - loss: 0.0072\n"
     ]
    },
    {
     "data": {
      "text/plain": [
       "<keras.src.callbacks.history.History at 0x7f255b5661d0>"
      ]
     },
     "execution_count": 37,
     "metadata": {},
     "output_type": "execute_result"
    }
   ],
   "source": [
    "# Train the model\n",
    "model.fit(\n",
    "    train_tsGenerator60, \n",
    "    epochs=100,           \n",
    "    verbose=1             \n",
    ")\n"
   ]
  },
  {
   "cell_type": "markdown",
   "id": "d22f7f20-b526-4eb2-b7b9-3c0818a80d71",
   "metadata": {},
   "source": [
    "### Visualize Model's Performamce after Training"
   ]
  },
  {
   "cell_type": "code",
   "execution_count": 38,
   "id": "814891cc-59b6-4e0f-80ec-f4acab678180",
   "metadata": {},
   "outputs": [
    {
     "data": {
      "text/plain": [
       "dict_keys(['loss'])"
      ]
     },
     "execution_count": 38,
     "metadata": {},
     "output_type": "execute_result"
    }
   ],
   "source": [
    "loss_history_keys = model.history.history.keys()\n",
    "\n",
    "# model.history.history is a dict\n",
    "# 'loss': its key\n",
    "# 'loss': loss during training;\n",
    "loss_history_keys"
   ]
  },
  {
   "cell_type": "code",
   "execution_count": 39,
   "id": "4e3ad296-5ae0-404c-a1d7-49eb09e36018",
   "metadata": {},
   "outputs": [
    {
     "data": {
      "text/plain": [
       "<Axes: >"
      ]
     },
     "execution_count": 39,
     "metadata": {},
     "output_type": "execute_result"
    },
    {
     "data": {
      "image/png": "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",
      "text/plain": [
       "<Figure size 640x480 with 1 Axes>"
      ]
     },
     "metadata": {},
     "output_type": "display_data"
    }
   ],
   "source": [
    "# Load the loss data (model.history.history) into a dataframe\n",
    "df_model_loss = pd.DataFrame(model.history.history)\n",
    "\n",
    "# Visualize the loss data using Dataframe.plot()\n",
    "df_model_loss.plot()"
   ]
  },
  {
   "cell_type": "markdown",
   "id": "310808ac-84aa-40d5-8036-77cda1a10eb9",
   "metadata": {},
   "source": [
    "## Prediction for Testing: Using TineseriesGenerator"
   ]
  },
  {
   "cell_type": "markdown",
   "id": "f43e1df2-7808-46b4-ae2b-a21e9255fe20",
   "metadata": {},
   "source": [
    "#### Create TimeseriesGenerator for Testing"
   ]
  },
  {
   "cell_type": "code",
   "execution_count": 40,
   "id": "24d7eb07-570a-4e3d-bcf9-eacf34d94943",
   "metadata": {},
   "outputs": [],
   "source": [
    "# batch_size Must be 1\n",
    "batch_size1 = 1\n",
    "\n",
    "# Create a TimeseriesGenerator for testing: test_tsGenerator\n",
    "test_tsGenerator60 = TimeseriesGenerator(normalized_test, normalized_test, length=length60, batch_size=batch_size1)"
   ]
  },
  {
   "cell_type": "markdown",
   "id": "6a3bced2-355e-443d-b0f9-eadf6819953a",
   "metadata": {},
   "source": [
    "#### Predict Future Data Point for Testing"
   ]
  },
  {
   "cell_type": "code",
   "execution_count": 41,
   "id": "40fe46c1-54ea-47cf-89cf-8650e6a938ff",
   "metadata": {},
   "outputs": [
    {
     "name": "stderr",
     "output_type": "stream",
     "text": [
      "/opt/conda/lib/python3.10/site-packages/keras/src/trainers/data_adapters/py_dataset_adapter.py:122: UserWarning: Your `PyDataset` class should call `super().__init__(**kwargs)` in its constructor. `**kwargs` can include `workers`, `use_multiprocessing`, `max_queue_size`. Do not pass these arguments to `fit()`, as they will be ignored.\n",
      "  self._warn_if_super_not_called()\n"
     ]
    },
    {
     "name": "stdout",
     "output_type": "stream",
     "text": [
      "\u001b[1m50/50\u001b[0m \u001b[32m━━━━━━━━━━━━━━━━━━━━\u001b[0m\u001b[37m\u001b[0m \u001b[1m1s\u001b[0m 7ms/step\n"
     ]
    }
   ],
   "source": [
    "normalized_prediction = model.predict(test_tsGenerator60)"
   ]
  },
  {
   "cell_type": "code",
   "execution_count": 42,
   "id": "a5d8eafd-3ff8-4a93-b844-90be6a2a4836",
   "metadata": {},
   "outputs": [
    {
     "data": {
      "text/plain": [
       "array([[0.79847664],\n",
       "       [0.7941229 ],\n",
       "       [0.78861475],\n",
       "       [0.78171337],\n",
       "       [0.77363783],\n",
       "       [0.7652959 ],\n",
       "       [0.7582798 ],\n",
       "       [0.7522591 ],\n",
       "       [0.7466224 ],\n",
       "       [0.74201393],\n",
       "       [0.7379824 ],\n",
       "       [0.73415786],\n",
       "       [0.73001796],\n",
       "       [0.7235354 ],\n",
       "       [0.7127929 ],\n",
       "       [0.69808906],\n",
       "       [0.68063813],\n",
       "       [0.66256756],\n",
       "       [0.6460236 ],\n",
       "       [0.6322314 ],\n",
       "       [0.6208156 ],\n",
       "       [0.612547  ],\n",
       "       [0.6071746 ],\n",
       "       [0.60478115],\n",
       "       [0.6059796 ],\n",
       "       [0.6114527 ],\n",
       "       [0.6171625 ],\n",
       "       [0.6220076 ],\n",
       "       [0.62478495],\n",
       "       [0.6248454 ],\n",
       "       [0.6240845 ],\n",
       "       [0.62244457],\n",
       "       [0.61959636],\n",
       "       [0.61525494],\n",
       "       [0.6101154 ],\n",
       "       [0.60434884],\n",
       "       [0.59869134],\n",
       "       [0.5930657 ],\n",
       "       [0.5881921 ],\n",
       "       [0.58350194],\n",
       "       [0.58211493],\n",
       "       [0.5851393 ],\n",
       "       [0.590466  ],\n",
       "       [0.59537846],\n",
       "       [0.59817904],\n",
       "       [0.5980621 ],\n",
       "       [0.59436524],\n",
       "       [0.5880326 ],\n",
       "       [0.58052033],\n",
       "       [0.57372564]], dtype=float32)"
      ]
     },
     "execution_count": 42,
     "metadata": {},
     "output_type": "execute_result"
    }
   ],
   "source": [
    "# Prediction is a numpy 2D array with only one column\n",
    "normalized_prediction"
   ]
  },
  {
   "cell_type": "code",
   "execution_count": 43,
   "id": "b68ef322-658e-43c8-95c7-cfb9718a79b0",
   "metadata": {},
   "outputs": [
    {
     "data": {
      "text/plain": [
       "50"
      ]
     },
     "execution_count": 43,
     "metadata": {},
     "output_type": "execute_result"
    }
   ],
   "source": [
    "len(normalized_prediction)"
   ]
  },
  {
   "cell_type": "code",
   "execution_count": 44,
   "id": "3af5cc5a-70ab-48e8-92fa-f4a9da23c90f",
   "metadata": {},
   "outputs": [],
   "source": [
    "# Convert normalized prediction back to the true values\n",
    "prediction = scaler.inverse_transform(normalized_prediction)"
   ]
  },
  {
   "cell_type": "code",
   "execution_count": 45,
   "id": "a2c9d76b-fba9-4a0f-95d2-88464be85762",
   "metadata": {},
   "outputs": [],
   "source": [
    "# Flatten all the 2D array\n",
    "\n",
    "# data_train = data_train.reshape((-1))\n",
    "# data_test = data_test.reshape((-1))\n",
    "# prediction = prediction.reshape((-1))\n",
    "\n",
    "prediction_index = np.arange(453, 503, step=1)\n",
    "\n",
    "df_prediction = pd.DataFrame(data=prediction, index=prediction_index, columns=['prediction'])"
   ]
  },
  {
   "cell_type": "code",
   "execution_count": 46,
   "id": "245605f5-b2e3-4fd3-a04c-d3a155fe00c3",
   "metadata": {},
   "outputs": [
    {
     "data": {
      "text/html": [
       "<div>\n",
       "<style scoped>\n",
       "    .dataframe tbody tr th:only-of-type {\n",
       "        vertical-align: middle;\n",
       "    }\n",
       "\n",
       "    .dataframe tbody tr th {\n",
       "        vertical-align: top;\n",
       "    }\n",
       "\n",
       "    .dataframe thead th {\n",
       "        text-align: right;\n",
       "    }\n",
       "</style>\n",
       "<table border=\"1\" class=\"dataframe\">\n",
       "  <thead>\n",
       "    <tr style=\"text-align: right;\">\n",
       "      <th></th>\n",
       "      <th>prediction</th>\n",
       "    </tr>\n",
       "  </thead>\n",
       "  <tbody>\n",
       "    <tr>\n",
       "      <th>453</th>\n",
       "      <td>183.380661</td>\n",
       "    </tr>\n",
       "    <tr>\n",
       "      <th>454</th>\n",
       "      <td>183.062454</td>\n",
       "    </tr>\n",
       "    <tr>\n",
       "      <th>455</th>\n",
       "      <td>182.659851</td>\n",
       "    </tr>\n",
       "    <tr>\n",
       "      <th>456</th>\n",
       "      <td>182.155426</td>\n",
       "    </tr>\n",
       "    <tr>\n",
       "      <th>457</th>\n",
       "      <td>181.565186</td>\n",
       "    </tr>\n",
       "    <tr>\n",
       "      <th>458</th>\n",
       "      <td>180.955490</td>\n",
       "    </tr>\n",
       "    <tr>\n",
       "      <th>459</th>\n",
       "      <td>180.442673</td>\n",
       "    </tr>\n",
       "    <tr>\n",
       "      <th>460</th>\n",
       "      <td>180.002609</td>\n",
       "    </tr>\n",
       "    <tr>\n",
       "      <th>461</th>\n",
       "      <td>179.590622</td>\n",
       "    </tr>\n",
       "    <tr>\n",
       "      <th>462</th>\n",
       "      <td>179.253799</td>\n",
       "    </tr>\n",
       "    <tr>\n",
       "      <th>463</th>\n",
       "      <td>178.959122</td>\n",
       "    </tr>\n",
       "    <tr>\n",
       "      <th>464</th>\n",
       "      <td>178.679596</td>\n",
       "    </tr>\n",
       "    <tr>\n",
       "      <th>465</th>\n",
       "      <td>178.377014</td>\n",
       "    </tr>\n",
       "    <tr>\n",
       "      <th>466</th>\n",
       "      <td>177.903198</td>\n",
       "    </tr>\n",
       "    <tr>\n",
       "      <th>467</th>\n",
       "      <td>177.118027</td>\n",
       "    </tr>\n",
       "    <tr>\n",
       "      <th>468</th>\n",
       "      <td>176.043335</td>\n",
       "    </tr>\n",
       "    <tr>\n",
       "      <th>469</th>\n",
       "      <td>174.767838</td>\n",
       "    </tr>\n",
       "    <tr>\n",
       "      <th>470</th>\n",
       "      <td>173.447067</td>\n",
       "    </tr>\n",
       "    <tr>\n",
       "      <th>471</th>\n",
       "      <td>172.237854</td>\n",
       "    </tr>\n",
       "    <tr>\n",
       "      <th>472</th>\n",
       "      <td>171.229797</td>\n",
       "    </tr>\n",
       "    <tr>\n",
       "      <th>473</th>\n",
       "      <td>170.395401</td>\n",
       "    </tr>\n",
       "    <tr>\n",
       "      <th>474</th>\n",
       "      <td>169.791061</td>\n",
       "    </tr>\n",
       "    <tr>\n",
       "      <th>475</th>\n",
       "      <td>169.398392</td>\n",
       "    </tr>\n",
       "    <tr>\n",
       "      <th>476</th>\n",
       "      <td>169.223450</td>\n",
       "    </tr>\n",
       "    <tr>\n",
       "      <th>477</th>\n",
       "      <td>169.311050</td>\n",
       "    </tr>\n",
       "    <tr>\n",
       "      <th>478</th>\n",
       "      <td>169.711075</td>\n",
       "    </tr>\n",
       "    <tr>\n",
       "      <th>479</th>\n",
       "      <td>170.128403</td>\n",
       "    </tr>\n",
       "    <tr>\n",
       "      <th>480</th>\n",
       "      <td>170.482544</td>\n",
       "    </tr>\n",
       "    <tr>\n",
       "      <th>481</th>\n",
       "      <td>170.685532</td>\n",
       "    </tr>\n",
       "    <tr>\n",
       "      <th>482</th>\n",
       "      <td>170.689941</td>\n",
       "    </tr>\n",
       "    <tr>\n",
       "      <th>483</th>\n",
       "      <td>170.634338</td>\n",
       "    </tr>\n",
       "    <tr>\n",
       "      <th>484</th>\n",
       "      <td>170.514481</td>\n",
       "    </tr>\n",
       "    <tr>\n",
       "      <th>485</th>\n",
       "      <td>170.306290</td>\n",
       "    </tr>\n",
       "    <tr>\n",
       "      <th>486</th>\n",
       "      <td>169.988983</td>\n",
       "    </tr>\n",
       "    <tr>\n",
       "      <th>487</th>\n",
       "      <td>169.613327</td>\n",
       "    </tr>\n",
       "    <tr>\n",
       "      <th>488</th>\n",
       "      <td>169.191864</td>\n",
       "    </tr>\n",
       "    <tr>\n",
       "      <th>489</th>\n",
       "      <td>168.778336</td>\n",
       "    </tr>\n",
       "    <tr>\n",
       "      <th>490</th>\n",
       "      <td>168.367172</td>\n",
       "    </tr>\n",
       "    <tr>\n",
       "      <th>491</th>\n",
       "      <td>168.010956</td>\n",
       "    </tr>\n",
       "    <tr>\n",
       "      <th>492</th>\n",
       "      <td>167.668152</td>\n",
       "    </tr>\n",
       "    <tr>\n",
       "      <th>493</th>\n",
       "      <td>167.566788</td>\n",
       "    </tr>\n",
       "    <tr>\n",
       "      <th>494</th>\n",
       "      <td>167.787827</td>\n",
       "    </tr>\n",
       "    <tr>\n",
       "      <th>495</th>\n",
       "      <td>168.177170</td>\n",
       "    </tr>\n",
       "    <tr>\n",
       "      <th>496</th>\n",
       "      <td>168.536209</td>\n",
       "    </tr>\n",
       "    <tr>\n",
       "      <th>497</th>\n",
       "      <td>168.740906</td>\n",
       "    </tr>\n",
       "    <tr>\n",
       "      <th>498</th>\n",
       "      <td>168.732361</td>\n",
       "    </tr>\n",
       "    <tr>\n",
       "      <th>499</th>\n",
       "      <td>168.462143</td>\n",
       "    </tr>\n",
       "    <tr>\n",
       "      <th>500</th>\n",
       "      <td>167.999298</td>\n",
       "    </tr>\n",
       "    <tr>\n",
       "      <th>501</th>\n",
       "      <td>167.450241</td>\n",
       "    </tr>\n",
       "    <tr>\n",
       "      <th>502</th>\n",
       "      <td>166.953613</td>\n",
       "    </tr>\n",
       "  </tbody>\n",
       "</table>\n",
       "</div>"
      ],
      "text/plain": [
       "     prediction\n",
       "453  183.380661\n",
       "454  183.062454\n",
       "455  182.659851\n",
       "456  182.155426\n",
       "457  181.565186\n",
       "458  180.955490\n",
       "459  180.442673\n",
       "460  180.002609\n",
       "461  179.590622\n",
       "462  179.253799\n",
       "463  178.959122\n",
       "464  178.679596\n",
       "465  178.377014\n",
       "466  177.903198\n",
       "467  177.118027\n",
       "468  176.043335\n",
       "469  174.767838\n",
       "470  173.447067\n",
       "471  172.237854\n",
       "472  171.229797\n",
       "473  170.395401\n",
       "474  169.791061\n",
       "475  169.398392\n",
       "476  169.223450\n",
       "477  169.311050\n",
       "478  169.711075\n",
       "479  170.128403\n",
       "480  170.482544\n",
       "481  170.685532\n",
       "482  170.689941\n",
       "483  170.634338\n",
       "484  170.514481\n",
       "485  170.306290\n",
       "486  169.988983\n",
       "487  169.613327\n",
       "488  169.191864\n",
       "489  168.778336\n",
       "490  168.367172\n",
       "491  168.010956\n",
       "492  167.668152\n",
       "493  167.566788\n",
       "494  167.787827\n",
       "495  168.177170\n",
       "496  168.536209\n",
       "497  168.740906\n",
       "498  168.732361\n",
       "499  168.462143\n",
       "500  167.999298\n",
       "501  167.450241\n",
       "502  166.953613"
      ]
     },
     "execution_count": 46,
     "metadata": {},
     "output_type": "execute_result"
    }
   ],
   "source": [
    "df_prediction"
   ]
  },
  {
   "cell_type": "markdown",
   "id": "d214763d-d433-42ba-b0c6-2400336f74f7",
   "metadata": {},
   "source": [
    "#### Visualize Prediction"
   ]
  },
  {
   "cell_type": "code",
   "execution_count": 47,
   "id": "a903124f-e4bc-4612-9fdb-3bbdebf0e816",
   "metadata": {},
   "outputs": [
    {
     "data": {
      "text/plain": [
       "<Axes: >"
      ]
     },
     "execution_count": 47,
     "metadata": {},
     "output_type": "execute_result"
    },
    {
     "data": {
      "image/png": "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",
      "text/plain": [
       "<Figure size 800x1200 with 1 Axes>"
      ]
     },
     "metadata": {},
     "output_type": "display_data"
    }
   ],
   "source": [
    "ax = data_train.plot()\n",
    "df_prediction.plot(ax=ax, figsize=(8, 12))"
   ]
  },
  {
   "cell_type": "markdown",
   "id": "b481d72f-e606-463c-b50c-0b4e73427bd9",
   "metadata": {},
   "source": [
    "#### Visualize Prediction and Compare Actual Close Price"
   ]
  },
  {
   "cell_type": "code",
   "execution_count": 48,
   "id": "c3d19939-1aab-4b96-87cb-129d80e71e43",
   "metadata": {},
   "outputs": [
    {
     "data": {
      "text/plain": [
       "<Axes: >"
      ]
     },
     "execution_count": 48,
     "metadata": {},
     "output_type": "execute_result"
    },
    {
     "data": {
      "image/png": "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",
      "text/plain": [
       "<Figure size 800x1200 with 1 Axes>"
      ]
     },
     "metadata": {},
     "output_type": "display_data"
    }
   ],
   "source": [
    "ax = closing_df.plot()\n",
    "df_prediction.plot(ax=ax, figsize=(8, 12))"
   ]
  },
  {
   "cell_type": "markdown",
   "id": "d75ea1de-6f7c-4ef8-8682-b2be1a3bbbf9",
   "metadata": {},
   "source": [
    "# Time Series Forecasting with LSTM  \n",
    "\n",
    "  **Overview**\n",
    "  Time series forecasting:\n",
    "  --) Forecast into the 'future' or unknown range\n",
    "  --) Should employ all the available data\n",
    "  --) i.e Not split the data into training/testing   \n",
    "  "
   ]
  },
  {
   "cell_type": "markdown",
   "id": "7aec39a4-5520-4134-a28b-2783482c1a78",
   "metadata": {},
   "source": [
    "### Preprocess Full Input Dataset"
   ]
  },
  {
   "cell_type": "code",
   "execution_count": 49,
   "id": "aa912f23-862e-46a8-89c6-83c329edd2de",
   "metadata": {},
   "outputs": [],
   "source": [
    "# Still use MinMaxScaler to normalize the full input dataset df\n",
    "\n",
    "full_scaler = MinMaxScaler()\n",
    "normalized_full_data = full_scaler.fit_transform(closing_df)"
   ]
  },
  {
   "cell_type": "code",
   "execution_count": 50,
   "id": "c3ecd0ba-7326-4b3a-ab63-3b6ae9dc44aa",
   "metadata": {},
   "outputs": [],
   "source": [
    "### Create TimeSeriesGenerator for Forecasting "
   ]
  },
  {
   "cell_type": "code",
   "execution_count": 51,
   "id": "5e9fcdb5-a44c-4af1-8171-a7b2890102aa",
   "metadata": {},
   "outputs": [
    {
     "data": {
      "text/plain": [
       "60"
      ]
     },
     "execution_count": 51,
     "metadata": {},
     "output_type": "execute_result"
    }
   ],
   "source": [
    "# Number of time stepds of the input time serties \n",
    "# still use length60: \n",
    "length60"
   ]
  },
  {
   "cell_type": "code",
   "execution_count": 52,
   "id": "83e348e4-0bdc-4f35-97d3-37462e094596",
   "metadata": {},
   "outputs": [],
   "source": [
    "# Create Timeseries Generator for Forecasting\n",
    "forecast_tsGenerator = TimeseriesGenerator(normalized_full_data, normalized_full_data, length=length60, batch_size=batch_size32)"
   ]
  },
  {
   "cell_type": "markdown",
   "id": "c2d7dbd6-dbd8-42ac-9e7f-2d214af304ea",
   "metadata": {},
   "source": [
    "### Build, Compile and Fit LSTM Model for Forecasting"
   ]
  },
  {
   "cell_type": "code",
   "execution_count": 53,
   "id": "b234faf5-3689-498e-bbda-8d8fc0e97f44",
   "metadata": {},
   "outputs": [
    {
     "name": "stdout",
     "output_type": "stream",
     "text": [
      "Epoch 1/100\n",
      "\u001b[1m 3/14\u001b[0m \u001b[32m━━━━\u001b[0m\u001b[37m━━━━━━━━━━━━━━━━\u001b[0m \u001b[1m0s\u001b[0m 60ms/step - loss: 0.0106"
     ]
    },
    {
     "name": "stderr",
     "output_type": "stream",
     "text": [
      "/opt/conda/lib/python3.10/site-packages/keras/src/trainers/data_adapters/py_dataset_adapter.py:122: UserWarning: Your `PyDataset` class should call `super().__init__(**kwargs)` in its constructor. `**kwargs` can include `workers`, `use_multiprocessing`, `max_queue_size`. Do not pass these arguments to `fit()`, as they will be ignored.\n",
      "  self._warn_if_super_not_called()\n"
     ]
    },
    {
     "name": "stdout",
     "output_type": "stream",
     "text": [
      "\u001b[1m14/14\u001b[0m \u001b[32m━━━━━━━━━━━━━━━━━━━━\u001b[0m\u001b[37m\u001b[0m \u001b[1m1s\u001b[0m 59ms/step - loss: 0.0089\n",
      "Epoch 2/100\n",
      "\u001b[1m14/14\u001b[0m \u001b[32m━━━━━━━━━━━━━━━━━━━━\u001b[0m\u001b[37m\u001b[0m \u001b[1m1s\u001b[0m 57ms/step - loss: 0.0063\n",
      "Epoch 3/100\n",
      "\u001b[1m14/14\u001b[0m \u001b[32m━━━━━━━━━━━━━━━━━━━━\u001b[0m\u001b[37m\u001b[0m \u001b[1m1s\u001b[0m 58ms/step - loss: 0.0053\n",
      "Epoch 4/100\n",
      "\u001b[1m14/14\u001b[0m \u001b[32m━━━━━━━━━━━━━━━━━━━━\u001b[0m\u001b[37m\u001b[0m \u001b[1m1s\u001b[0m 58ms/step - loss: 0.0073\n",
      "Epoch 5/100\n",
      "\u001b[1m14/14\u001b[0m \u001b[32m━━━━━━━━━━━━━━━━━━━━\u001b[0m\u001b[37m\u001b[0m \u001b[1m1s\u001b[0m 58ms/step - loss: 0.0047\n",
      "Epoch 6/100\n",
      "\u001b[1m14/14\u001b[0m \u001b[32m━━━━━━━━━━━━━━━━━━━━\u001b[0m\u001b[37m\u001b[0m \u001b[1m1s\u001b[0m 58ms/step - loss: 0.0059\n",
      "Epoch 7/100\n",
      "\u001b[1m14/14\u001b[0m \u001b[32m━━━━━━━━━━━━━━━━━━━━\u001b[0m\u001b[37m\u001b[0m \u001b[1m1s\u001b[0m 58ms/step - loss: 0.0052\n",
      "Epoch 8/100\n",
      "\u001b[1m14/14\u001b[0m \u001b[32m━━━━━━━━━━━━━━━━━━━━\u001b[0m\u001b[37m\u001b[0m \u001b[1m1s\u001b[0m 58ms/step - loss: 0.0052\n",
      "Epoch 9/100\n",
      "\u001b[1m14/14\u001b[0m \u001b[32m━━━━━━━━━━━━━━━━━━━━\u001b[0m\u001b[37m\u001b[0m \u001b[1m1s\u001b[0m 58ms/step - loss: 0.0064\n",
      "Epoch 10/100\n",
      "\u001b[1m14/14\u001b[0m \u001b[32m━━━━━━━━━━━━━━━━━━━━\u001b[0m\u001b[37m\u001b[0m \u001b[1m1s\u001b[0m 58ms/step - loss: 0.0069\n",
      "Epoch 11/100\n",
      "\u001b[1m14/14\u001b[0m \u001b[32m━━━━━━━━━━━━━━━━━━━━\u001b[0m\u001b[37m\u001b[0m \u001b[1m1s\u001b[0m 58ms/step - loss: 0.0057\n",
      "Epoch 12/100\n",
      "\u001b[1m14/14\u001b[0m \u001b[32m━━━━━━━━━━━━━━━━━━━━\u001b[0m\u001b[37m\u001b[0m \u001b[1m1s\u001b[0m 57ms/step - loss: 0.0059\n",
      "Epoch 13/100\n",
      "\u001b[1m14/14\u001b[0m \u001b[32m━━━━━━━━━━━━━━━━━━━━\u001b[0m\u001b[37m\u001b[0m \u001b[1m1s\u001b[0m 57ms/step - loss: 0.0070\n",
      "Epoch 14/100\n",
      "\u001b[1m14/14\u001b[0m \u001b[32m━━━━━━━━━━━━━━━━━━━━\u001b[0m\u001b[37m\u001b[0m \u001b[1m1s\u001b[0m 58ms/step - loss: 0.0080\n",
      "Epoch 15/100\n",
      "\u001b[1m14/14\u001b[0m \u001b[32m━━━━━━━━━━━━━━━━━━━━\u001b[0m\u001b[37m\u001b[0m \u001b[1m1s\u001b[0m 57ms/step - loss: 0.0060\n",
      "Epoch 16/100\n",
      "\u001b[1m14/14\u001b[0m \u001b[32m━━━━━━━━━━━━━━━━━━━━\u001b[0m\u001b[37m\u001b[0m \u001b[1m1s\u001b[0m 58ms/step - loss: 0.0062\n",
      "Epoch 17/100\n",
      "\u001b[1m14/14\u001b[0m \u001b[32m━━━━━━━━━━━━━━━━━━━━\u001b[0m\u001b[37m\u001b[0m \u001b[1m1s\u001b[0m 58ms/step - loss: 0.0067\n",
      "Epoch 18/100\n",
      "\u001b[1m14/14\u001b[0m \u001b[32m━━━━━━━━━━━━━━━━━━━━\u001b[0m\u001b[37m\u001b[0m \u001b[1m1s\u001b[0m 58ms/step - loss: 0.0059\n",
      "Epoch 19/100\n",
      "\u001b[1m14/14\u001b[0m \u001b[32m━━━━━━━━━━━━━━━━━━━━\u001b[0m\u001b[37m\u001b[0m \u001b[1m1s\u001b[0m 58ms/step - loss: 0.0056\n",
      "Epoch 20/100\n",
      "\u001b[1m14/14\u001b[0m \u001b[32m━━━━━━━━━━━━━━━━━━━━\u001b[0m\u001b[37m\u001b[0m \u001b[1m1s\u001b[0m 58ms/step - loss: 0.0059\n",
      "Epoch 21/100\n",
      "\u001b[1m14/14\u001b[0m \u001b[32m━━━━━━━━━━━━━━━━━━━━\u001b[0m\u001b[37m\u001b[0m \u001b[1m1s\u001b[0m 58ms/step - loss: 0.0068\n",
      "Epoch 22/100\n",
      "\u001b[1m14/14\u001b[0m \u001b[32m━━━━━━━━━━━━━━━━━━━━\u001b[0m\u001b[37m\u001b[0m \u001b[1m1s\u001b[0m 58ms/step - loss: 0.0050\n",
      "Epoch 23/100\n",
      "\u001b[1m14/14\u001b[0m \u001b[32m━━━━━━━━━━━━━━━━━━━━\u001b[0m\u001b[37m\u001b[0m \u001b[1m1s\u001b[0m 57ms/step - loss: 0.0056\n",
      "Epoch 24/100\n",
      "\u001b[1m14/14\u001b[0m \u001b[32m━━━━━━━━━━━━━━━━━━━━\u001b[0m\u001b[37m\u001b[0m \u001b[1m1s\u001b[0m 59ms/step - loss: 0.0050\n",
      "Epoch 25/100\n",
      "\u001b[1m14/14\u001b[0m \u001b[32m━━━━━━━━━━━━━━━━━━━━\u001b[0m\u001b[37m\u001b[0m \u001b[1m1s\u001b[0m 58ms/step - loss: 0.0059\n",
      "Epoch 26/100\n",
      "\u001b[1m14/14\u001b[0m \u001b[32m━━━━━━━━━━━━━━━━━━━━\u001b[0m\u001b[37m\u001b[0m \u001b[1m1s\u001b[0m 58ms/step - loss: 0.0055\n",
      "Epoch 27/100\n",
      "\u001b[1m14/14\u001b[0m \u001b[32m━━━━━━━━━━━━━━━━━━━━\u001b[0m\u001b[37m\u001b[0m \u001b[1m1s\u001b[0m 58ms/step - loss: 0.0072\n",
      "Epoch 28/100\n",
      "\u001b[1m14/14\u001b[0m \u001b[32m━━━━━━━━━━━━━━━━━━━━\u001b[0m\u001b[37m\u001b[0m \u001b[1m1s\u001b[0m 58ms/step - loss: 0.0070\n",
      "Epoch 29/100\n",
      "\u001b[1m14/14\u001b[0m \u001b[32m━━━━━━━━━━━━━━━━━━━━\u001b[0m\u001b[37m\u001b[0m \u001b[1m1s\u001b[0m 58ms/step - loss: 0.0088\n",
      "Epoch 30/100\n",
      "\u001b[1m14/14\u001b[0m \u001b[32m━━━━━━━━━━━━━━━━━━━━\u001b[0m\u001b[37m\u001b[0m \u001b[1m1s\u001b[0m 58ms/step - loss: 0.0051\n",
      "Epoch 31/100\n",
      "\u001b[1m14/14\u001b[0m \u001b[32m━━━━━━━━━━━━━━━━━━━━\u001b[0m\u001b[37m\u001b[0m \u001b[1m1s\u001b[0m 58ms/step - loss: 0.0063\n",
      "Epoch 32/100\n",
      "\u001b[1m14/14\u001b[0m \u001b[32m━━━━━━━━━━━━━━━━━━━━\u001b[0m\u001b[37m\u001b[0m \u001b[1m1s\u001b[0m 59ms/step - loss: 0.0047\n",
      "Epoch 33/100\n",
      "\u001b[1m14/14\u001b[0m \u001b[32m━━━━━━━━━━━━━━━━━━━━\u001b[0m\u001b[37m\u001b[0m \u001b[1m1s\u001b[0m 58ms/step - loss: 0.0050\n",
      "Epoch 34/100\n",
      "\u001b[1m14/14\u001b[0m \u001b[32m━━━━━━━━━━━━━━━━━━━━\u001b[0m\u001b[37m\u001b[0m \u001b[1m1s\u001b[0m 57ms/step - loss: 0.0060\n",
      "Epoch 35/100\n",
      "\u001b[1m14/14\u001b[0m \u001b[32m━━━━━━━━━━━━━━━━━━━━\u001b[0m\u001b[37m\u001b[0m \u001b[1m1s\u001b[0m 58ms/step - loss: 0.0044\n",
      "Epoch 36/100\n",
      "\u001b[1m14/14\u001b[0m \u001b[32m━━━━━━━━━━━━━━━━━━━━\u001b[0m\u001b[37m\u001b[0m \u001b[1m1s\u001b[0m 58ms/step - loss: 0.0050\n",
      "Epoch 37/100\n",
      "\u001b[1m14/14\u001b[0m \u001b[32m━━━━━━━━━━━━━━━━━━━━\u001b[0m\u001b[37m\u001b[0m \u001b[1m1s\u001b[0m 56ms/step - loss: 0.0058\n",
      "Epoch 38/100\n",
      "\u001b[1m14/14\u001b[0m \u001b[32m━━━━━━━━━━━━━━━━━━━━\u001b[0m\u001b[37m\u001b[0m \u001b[1m1s\u001b[0m 58ms/step - loss: 0.0057\n",
      "Epoch 39/100\n",
      "\u001b[1m14/14\u001b[0m \u001b[32m━━━━━━━━━━━━━━━━━━━━\u001b[0m\u001b[37m\u001b[0m \u001b[1m1s\u001b[0m 58ms/step - loss: 0.0048\n",
      "Epoch 40/100\n",
      "\u001b[1m14/14\u001b[0m \u001b[32m━━━━━━━━━━━━━━━━━━━━\u001b[0m\u001b[37m\u001b[0m \u001b[1m1s\u001b[0m 58ms/step - loss: 0.0051\n",
      "Epoch 41/100\n",
      "\u001b[1m14/14\u001b[0m \u001b[32m━━━━━━━━━━━━━━━━━━━━\u001b[0m\u001b[37m\u001b[0m \u001b[1m1s\u001b[0m 59ms/step - loss: 0.0056\n",
      "Epoch 42/100\n",
      "\u001b[1m14/14\u001b[0m \u001b[32m━━━━━━━━━━━━━━━━━━━━\u001b[0m\u001b[37m\u001b[0m \u001b[1m1s\u001b[0m 58ms/step - loss: 0.0049\n",
      "Epoch 43/100\n",
      "\u001b[1m14/14\u001b[0m \u001b[32m━━━━━━━━━━━━━━━━━━━━\u001b[0m\u001b[37m\u001b[0m \u001b[1m1s\u001b[0m 58ms/step - loss: 0.0058\n",
      "Epoch 44/100\n",
      "\u001b[1m14/14\u001b[0m \u001b[32m━━━━━━━━━━━━━━━━━━━━\u001b[0m\u001b[37m\u001b[0m \u001b[1m1s\u001b[0m 58ms/step - loss: 0.0048\n",
      "Epoch 45/100\n",
      "\u001b[1m14/14\u001b[0m \u001b[32m━━━━━━━━━━━━━━━━━━━━\u001b[0m\u001b[37m\u001b[0m \u001b[1m1s\u001b[0m 58ms/step - loss: 0.0056\n",
      "Epoch 46/100\n",
      "\u001b[1m14/14\u001b[0m \u001b[32m━━━━━━━━━━━━━━━━━━━━\u001b[0m\u001b[37m\u001b[0m \u001b[1m1s\u001b[0m 58ms/step - loss: 0.0045\n",
      "Epoch 47/100\n",
      "\u001b[1m14/14\u001b[0m \u001b[32m━━━━━━━━━━━━━━━━━━━━\u001b[0m\u001b[37m\u001b[0m \u001b[1m1s\u001b[0m 60ms/step - loss: 0.0056\n",
      "Epoch 48/100\n",
      "\u001b[1m14/14\u001b[0m \u001b[32m━━━━━━━━━━━━━━━━━━━━\u001b[0m\u001b[37m\u001b[0m \u001b[1m1s\u001b[0m 60ms/step - loss: 0.0041\n",
      "Epoch 49/100\n",
      "\u001b[1m14/14\u001b[0m \u001b[32m━━━━━━━━━━━━━━━━━━━━\u001b[0m\u001b[37m\u001b[0m \u001b[1m1s\u001b[0m 62ms/step - loss: 0.0058\n",
      "Epoch 50/100\n",
      "\u001b[1m14/14\u001b[0m \u001b[32m━━━━━━━━━━━━━━━━━━━━\u001b[0m\u001b[37m\u001b[0m \u001b[1m1s\u001b[0m 60ms/step - loss: 0.0055\n",
      "Epoch 51/100\n",
      "\u001b[1m14/14\u001b[0m \u001b[32m━━━━━━━━━━━━━━━━━━━━\u001b[0m\u001b[37m\u001b[0m \u001b[1m1s\u001b[0m 58ms/step - loss: 0.0054\n",
      "Epoch 52/100\n",
      "\u001b[1m14/14\u001b[0m \u001b[32m━━━━━━━━━━━━━━━━━━━━\u001b[0m\u001b[37m\u001b[0m \u001b[1m1s\u001b[0m 58ms/step - loss: 0.0047\n",
      "Epoch 53/100\n",
      "\u001b[1m14/14\u001b[0m \u001b[32m━━━━━━━━━━━━━━━━━━━━\u001b[0m\u001b[37m\u001b[0m \u001b[1m1s\u001b[0m 57ms/step - loss: 0.0052\n",
      "Epoch 54/100\n",
      "\u001b[1m14/14\u001b[0m \u001b[32m━━━━━━━━━━━━━━━━━━━━\u001b[0m\u001b[37m\u001b[0m \u001b[1m1s\u001b[0m 58ms/step - loss: 0.0044\n",
      "Epoch 55/100\n",
      "\u001b[1m14/14\u001b[0m \u001b[32m━━━━━━━━━━━━━━━━━━━━\u001b[0m\u001b[37m\u001b[0m \u001b[1m1s\u001b[0m 59ms/step - loss: 0.0059\n",
      "Epoch 56/100\n",
      "\u001b[1m14/14\u001b[0m \u001b[32m━━━━━━━━━━━━━━━━━━━━\u001b[0m\u001b[37m\u001b[0m \u001b[1m1s\u001b[0m 58ms/step - loss: 0.0044\n",
      "Epoch 57/100\n",
      "\u001b[1m14/14\u001b[0m \u001b[32m━━━━━━━━━━━━━━━━━━━━\u001b[0m\u001b[37m\u001b[0m \u001b[1m1s\u001b[0m 58ms/step - loss: 0.0060\n",
      "Epoch 58/100\n",
      "\u001b[1m14/14\u001b[0m \u001b[32m━━━━━━━━━━━━━━━━━━━━\u001b[0m\u001b[37m\u001b[0m \u001b[1m1s\u001b[0m 59ms/step - loss: 0.0048\n",
      "Epoch 59/100\n",
      "\u001b[1m14/14\u001b[0m \u001b[32m━━━━━━━━━━━━━━━━━━━━\u001b[0m\u001b[37m\u001b[0m \u001b[1m1s\u001b[0m 57ms/step - loss: 0.0042\n",
      "Epoch 60/100\n",
      "\u001b[1m14/14\u001b[0m \u001b[32m━━━━━━━━━━━━━━━━━━━━\u001b[0m\u001b[37m\u001b[0m \u001b[1m1s\u001b[0m 58ms/step - loss: 0.0046\n",
      "Epoch 61/100\n",
      "\u001b[1m14/14\u001b[0m \u001b[32m━━━━━━━━━━━━━━━━━━━━\u001b[0m\u001b[37m\u001b[0m \u001b[1m1s\u001b[0m 57ms/step - loss: 0.0040\n",
      "Epoch 62/100\n",
      "\u001b[1m14/14\u001b[0m \u001b[32m━━━━━━━━━━━━━━━━━━━━\u001b[0m\u001b[37m\u001b[0m \u001b[1m1s\u001b[0m 58ms/step - loss: 0.0049\n",
      "Epoch 63/100\n",
      "\u001b[1m14/14\u001b[0m \u001b[32m━━━━━━━━━━━━━━━━━━━━\u001b[0m\u001b[37m\u001b[0m \u001b[1m1s\u001b[0m 58ms/step - loss: 0.0043\n",
      "Epoch 64/100\n",
      "\u001b[1m14/14\u001b[0m \u001b[32m━━━━━━━━━━━━━━━━━━━━\u001b[0m\u001b[37m\u001b[0m \u001b[1m1s\u001b[0m 58ms/step - loss: 0.0059\n",
      "Epoch 65/100\n",
      "\u001b[1m14/14\u001b[0m \u001b[32m━━━━━━━━━━━━━━━━━━━━\u001b[0m\u001b[37m\u001b[0m \u001b[1m1s\u001b[0m 58ms/step - loss: 0.0045\n",
      "Epoch 66/100\n",
      "\u001b[1m14/14\u001b[0m \u001b[32m━━━━━━━━━━━━━━━━━━━━\u001b[0m\u001b[37m\u001b[0m \u001b[1m1s\u001b[0m 59ms/step - loss: 0.0047\n",
      "Epoch 67/100\n",
      "\u001b[1m14/14\u001b[0m \u001b[32m━━━━━━━━━━━━━━━━━━━━\u001b[0m\u001b[37m\u001b[0m \u001b[1m1s\u001b[0m 59ms/step - loss: 0.0048\n",
      "Epoch 68/100\n",
      "\u001b[1m14/14\u001b[0m \u001b[32m━━━━━━━━━━━━━━━━━━━━\u001b[0m\u001b[37m\u001b[0m \u001b[1m1s\u001b[0m 59ms/step - loss: 0.0056\n",
      "Epoch 69/100\n",
      "\u001b[1m14/14\u001b[0m \u001b[32m━━━━━━━━━━━━━━━━━━━━\u001b[0m\u001b[37m\u001b[0m \u001b[1m1s\u001b[0m 59ms/step - loss: 0.0044\n",
      "Epoch 70/100\n",
      "\u001b[1m14/14\u001b[0m \u001b[32m━━━━━━━━━━━━━━━━━━━━\u001b[0m\u001b[37m\u001b[0m \u001b[1m1s\u001b[0m 58ms/step - loss: 0.0043\n",
      "Epoch 71/100\n",
      "\u001b[1m14/14\u001b[0m \u001b[32m━━━━━━━━━━━━━━━━━━━━\u001b[0m\u001b[37m\u001b[0m \u001b[1m1s\u001b[0m 58ms/step - loss: 0.0044\n",
      "Epoch 72/100\n",
      "\u001b[1m14/14\u001b[0m \u001b[32m━━━━━━━━━━━━━━━━━━━━\u001b[0m\u001b[37m\u001b[0m \u001b[1m1s\u001b[0m 58ms/step - loss: 0.0058\n",
      "Epoch 73/100\n",
      "\u001b[1m14/14\u001b[0m \u001b[32m━━━━━━━━━━━━━━━━━━━━\u001b[0m\u001b[37m\u001b[0m \u001b[1m1s\u001b[0m 59ms/step - loss: 0.0035\n",
      "Epoch 74/100\n",
      "\u001b[1m14/14\u001b[0m \u001b[32m━━━━━━━━━━━━━━━━━━━━\u001b[0m\u001b[37m\u001b[0m \u001b[1m1s\u001b[0m 59ms/step - loss: 0.0046\n",
      "Epoch 75/100\n",
      "\u001b[1m14/14\u001b[0m \u001b[32m━━━━━━━━━━━━━━━━━━━━\u001b[0m\u001b[37m\u001b[0m \u001b[1m1s\u001b[0m 58ms/step - loss: 0.0054\n",
      "Epoch 76/100\n",
      "\u001b[1m14/14\u001b[0m \u001b[32m━━━━━━━━━━━━━━━━━━━━\u001b[0m\u001b[37m\u001b[0m \u001b[1m1s\u001b[0m 58ms/step - loss: 0.0043\n",
      "Epoch 77/100\n",
      "\u001b[1m14/14\u001b[0m \u001b[32m━━━━━━━━━━━━━━━━━━━━\u001b[0m\u001b[37m\u001b[0m \u001b[1m1s\u001b[0m 59ms/step - loss: 0.0037\n",
      "Epoch 78/100\n",
      "\u001b[1m14/14\u001b[0m \u001b[32m━━━━━━━━━━━━━━━━━━━━\u001b[0m\u001b[37m\u001b[0m \u001b[1m1s\u001b[0m 58ms/step - loss: 0.0048\n",
      "Epoch 79/100\n",
      "\u001b[1m14/14\u001b[0m \u001b[32m━━━━━━━━━━━━━━━━━━━━\u001b[0m\u001b[37m\u001b[0m \u001b[1m1s\u001b[0m 58ms/step - loss: 0.0035\n",
      "Epoch 80/100\n",
      "\u001b[1m14/14\u001b[0m \u001b[32m━━━━━━━━━━━━━━━━━━━━\u001b[0m\u001b[37m\u001b[0m \u001b[1m1s\u001b[0m 59ms/step - loss: 0.0032\n",
      "Epoch 81/100\n"
     ]
    },
    {
     "name": "stdout",
     "output_type": "stream",
     "text": [
      "\u001b[1m14/14\u001b[0m \u001b[32m━━━━━━━━━━━━━━━━━━━━\u001b[0m\u001b[37m\u001b[0m \u001b[1m1s\u001b[0m 59ms/step - loss: 0.0031\n",
      "Epoch 82/100\n",
      "\u001b[1m14/14\u001b[0m \u001b[32m━━━━━━━━━━━━━━━━━━━━\u001b[0m\u001b[37m\u001b[0m \u001b[1m1s\u001b[0m 57ms/step - loss: 0.0042\n",
      "Epoch 83/100\n",
      "\u001b[1m14/14\u001b[0m \u001b[32m━━━━━━━━━━━━━━━━━━━━\u001b[0m\u001b[37m\u001b[0m \u001b[1m1s\u001b[0m 58ms/step - loss: 0.0048\n",
      "Epoch 84/100\n",
      "\u001b[1m14/14\u001b[0m \u001b[32m━━━━━━━━━━━━━━━━━━━━\u001b[0m\u001b[37m\u001b[0m \u001b[1m1s\u001b[0m 58ms/step - loss: 0.0034\n",
      "Epoch 85/100\n",
      "\u001b[1m14/14\u001b[0m \u001b[32m━━━━━━━━━━━━━━━━━━━━\u001b[0m\u001b[37m\u001b[0m \u001b[1m1s\u001b[0m 57ms/step - loss: 0.0046\n",
      "Epoch 86/100\n",
      "\u001b[1m14/14\u001b[0m \u001b[32m━━━━━━━━━━━━━━━━━━━━\u001b[0m\u001b[37m\u001b[0m \u001b[1m1s\u001b[0m 57ms/step - loss: 0.0034\n",
      "Epoch 87/100\n",
      "\u001b[1m14/14\u001b[0m \u001b[32m━━━━━━━━━━━━━━━━━━━━\u001b[0m\u001b[37m\u001b[0m \u001b[1m1s\u001b[0m 57ms/step - loss: 0.0048\n",
      "Epoch 88/100\n",
      "\u001b[1m14/14\u001b[0m \u001b[32m━━━━━━━━━━━━━━━━━━━━\u001b[0m\u001b[37m\u001b[0m \u001b[1m1s\u001b[0m 57ms/step - loss: 0.0038\n",
      "Epoch 89/100\n",
      "\u001b[1m14/14\u001b[0m \u001b[32m━━━━━━━━━━━━━━━━━━━━\u001b[0m\u001b[37m\u001b[0m \u001b[1m1s\u001b[0m 57ms/step - loss: 0.0046\n",
      "Epoch 90/100\n",
      "\u001b[1m14/14\u001b[0m \u001b[32m━━━━━━━━━━━━━━━━━━━━\u001b[0m\u001b[37m\u001b[0m \u001b[1m1s\u001b[0m 57ms/step - loss: 0.0037\n",
      "Epoch 91/100\n",
      "\u001b[1m14/14\u001b[0m \u001b[32m━━━━━━━━━━━━━━━━━━━━\u001b[0m\u001b[37m\u001b[0m \u001b[1m1s\u001b[0m 57ms/step - loss: 0.0039\n",
      "Epoch 92/100\n",
      "\u001b[1m14/14\u001b[0m \u001b[32m━━━━━━━━━━━━━━━━━━━━\u001b[0m\u001b[37m\u001b[0m \u001b[1m1s\u001b[0m 58ms/step - loss: 0.0044\n",
      "Epoch 93/100\n",
      "\u001b[1m14/14\u001b[0m \u001b[32m━━━━━━━━━━━━━━━━━━━━\u001b[0m\u001b[37m\u001b[0m \u001b[1m1s\u001b[0m 57ms/step - loss: 0.0034\n",
      "Epoch 94/100\n",
      "\u001b[1m14/14\u001b[0m \u001b[32m━━━━━━━━━━━━━━━━━━━━\u001b[0m\u001b[37m\u001b[0m \u001b[1m1s\u001b[0m 57ms/step - loss: 0.0044\n",
      "Epoch 95/100\n",
      "\u001b[1m14/14\u001b[0m \u001b[32m━━━━━━━━━━━━━━━━━━━━\u001b[0m\u001b[37m\u001b[0m \u001b[1m1s\u001b[0m 57ms/step - loss: 0.0038\n",
      "Epoch 96/100\n",
      "\u001b[1m14/14\u001b[0m \u001b[32m━━━━━━━━━━━━━━━━━━━━\u001b[0m\u001b[37m\u001b[0m \u001b[1m1s\u001b[0m 57ms/step - loss: 0.0033\n",
      "Epoch 97/100\n",
      "\u001b[1m14/14\u001b[0m \u001b[32m━━━━━━━━━━━━━━━━━━━━\u001b[0m\u001b[37m\u001b[0m \u001b[1m1s\u001b[0m 57ms/step - loss: 0.0046\n",
      "Epoch 98/100\n",
      "\u001b[1m14/14\u001b[0m \u001b[32m━━━━━━━━━━━━━━━━━━━━\u001b[0m\u001b[37m\u001b[0m \u001b[1m1s\u001b[0m 56ms/step - loss: 0.0042\n",
      "Epoch 99/100\n",
      "\u001b[1m14/14\u001b[0m \u001b[32m━━━━━━━━━━━━━━━━━━━━\u001b[0m\u001b[37m\u001b[0m \u001b[1m1s\u001b[0m 57ms/step - loss: 0.0050\n",
      "Epoch 100/100\n",
      "\u001b[1m14/14\u001b[0m \u001b[32m━━━━━━━━━━━━━━━━━━━━\u001b[0m\u001b[37m\u001b[0m \u001b[1m1s\u001b[0m 57ms/step - loss: 0.0064\n"
     ]
    },
    {
     "data": {
      "text/plain": [
       "<keras.src.callbacks.history.History at 0x7f25405b6e00>"
      ]
     },
     "execution_count": 53,
     "metadata": {},
     "output_type": "execute_result"
    }
   ],
   "source": [
    "# Train/Fit LSTM model\n",
    "# In forecasting, we dont validate, Only FORECAST\n",
    "# So, not need Earlystop; Not need Validation_generation\n",
    "\n",
    "model.fit(forecast_tsGenerator, epochs=100)"
   ]
  },
  {
   "cell_type": "markdown",
   "id": "ac53cffe-f15e-4305-ba61-4a328a4b4ec8",
   "metadata": {},
   "source": [
    "#### Time Series Forecast Using LSTM Neural Network: 04/29/2024 - 11/22/2024"
   ]
  },
  {
   "cell_type": "code",
   "execution_count": 54,
   "id": "7fd4b053-1322-428f-903b-76404343d692",
   "metadata": {},
   "outputs": [
    {
     "name": "stdout",
     "output_type": "stream",
     "text": [
      "\u001b[1m1/1\u001b[0m \u001b[32m━━━━━━━━━━━━━━━━━━━━\u001b[0m\u001b[37m\u001b[0m \u001b[1m0s\u001b[0m 343ms/step\n",
      "\u001b[1m1/1\u001b[0m \u001b[32m━━━━━━━━━━━━━━━━━━━━\u001b[0m\u001b[37m\u001b[0m \u001b[1m0s\u001b[0m 27ms/step\n",
      "\u001b[1m1/1\u001b[0m \u001b[32m━━━━━━━━━━━━━━━━━━━━\u001b[0m\u001b[37m\u001b[0m \u001b[1m0s\u001b[0m 24ms/step\n",
      "\u001b[1m1/1\u001b[0m \u001b[32m━━━━━━━━━━━━━━━━━━━━\u001b[0m\u001b[37m\u001b[0m \u001b[1m0s\u001b[0m 23ms/step\n",
      "\u001b[1m1/1\u001b[0m \u001b[32m━━━━━━━━━━━━━━━━━━━━\u001b[0m\u001b[37m\u001b[0m \u001b[1m0s\u001b[0m 22ms/step\n",
      "\u001b[1m1/1\u001b[0m \u001b[32m━━━━━━━━━━━━━━━━━━━━\u001b[0m\u001b[37m\u001b[0m \u001b[1m0s\u001b[0m 23ms/step\n",
      "\u001b[1m1/1\u001b[0m \u001b[32m━━━━━━━━━━━━━━━━━━━━\u001b[0m\u001b[37m\u001b[0m \u001b[1m0s\u001b[0m 23ms/step\n",
      "\u001b[1m1/1\u001b[0m \u001b[32m━━━━━━━━━━━━━━━━━━━━\u001b[0m\u001b[37m\u001b[0m \u001b[1m0s\u001b[0m 23ms/step\n",
      "\u001b[1m1/1\u001b[0m \u001b[32m━━━━━━━━━━━━━━━━━━━━\u001b[0m\u001b[37m\u001b[0m \u001b[1m0s\u001b[0m 23ms/step\n",
      "\u001b[1m1/1\u001b[0m \u001b[32m━━━━━━━━━━━━━━━━━━━━\u001b[0m\u001b[37m\u001b[0m \u001b[1m0s\u001b[0m 23ms/step\n",
      "\u001b[1m1/1\u001b[0m \u001b[32m━━━━━━━━━━━━━━━━━━━━\u001b[0m\u001b[37m\u001b[0m \u001b[1m0s\u001b[0m 24ms/step\n",
      "\u001b[1m1/1\u001b[0m \u001b[32m━━━━━━━━━━━━━━━━━━━━\u001b[0m\u001b[37m\u001b[0m \u001b[1m0s\u001b[0m 23ms/step\n",
      "\u001b[1m1/1\u001b[0m \u001b[32m━━━━━━━━━━━━━━━━━━━━\u001b[0m\u001b[37m\u001b[0m \u001b[1m0s\u001b[0m 23ms/step\n",
      "\u001b[1m1/1\u001b[0m \u001b[32m━━━━━━━━━━━━━━━━━━━━\u001b[0m\u001b[37m\u001b[0m \u001b[1m0s\u001b[0m 23ms/step\n",
      "\u001b[1m1/1\u001b[0m \u001b[32m━━━━━━━━━━━━━━━━━━━━\u001b[0m\u001b[37m\u001b[0m \u001b[1m0s\u001b[0m 23ms/step\n",
      "\u001b[1m1/1\u001b[0m \u001b[32m━━━━━━━━━━━━━━━━━━━━\u001b[0m\u001b[37m\u001b[0m \u001b[1m0s\u001b[0m 23ms/step\n",
      "\u001b[1m1/1\u001b[0m \u001b[32m━━━━━━━━━━━━━━━━━━━━\u001b[0m\u001b[37m\u001b[0m \u001b[1m0s\u001b[0m 23ms/step\n",
      "\u001b[1m1/1\u001b[0m \u001b[32m━━━━━━━━━━━━━━━━━━━━\u001b[0m\u001b[37m\u001b[0m \u001b[1m0s\u001b[0m 23ms/step\n",
      "\u001b[1m1/1\u001b[0m \u001b[32m━━━━━━━━━━━━━━━━━━━━\u001b[0m\u001b[37m\u001b[0m \u001b[1m0s\u001b[0m 24ms/step\n",
      "\u001b[1m1/1\u001b[0m \u001b[32m━━━━━━━━━━━━━━━━━━━━\u001b[0m\u001b[37m\u001b[0m \u001b[1m0s\u001b[0m 23ms/step\n",
      "\u001b[1m1/1\u001b[0m \u001b[32m━━━━━━━━━━━━━━━━━━━━\u001b[0m\u001b[37m\u001b[0m \u001b[1m0s\u001b[0m 23ms/step\n",
      "\u001b[1m1/1\u001b[0m \u001b[32m━━━━━━━━━━━━━━━━━━━━\u001b[0m\u001b[37m\u001b[0m \u001b[1m0s\u001b[0m 24ms/step\n",
      "\u001b[1m1/1\u001b[0m \u001b[32m━━━━━━━━━━━━━━━━━━━━\u001b[0m\u001b[37m\u001b[0m \u001b[1m0s\u001b[0m 23ms/step\n",
      "\u001b[1m1/1\u001b[0m \u001b[32m━━━━━━━━━━━━━━━━━━━━\u001b[0m\u001b[37m\u001b[0m \u001b[1m0s\u001b[0m 23ms/step\n",
      "\u001b[1m1/1\u001b[0m \u001b[32m━━━━━━━━━━━━━━━━━━━━\u001b[0m\u001b[37m\u001b[0m \u001b[1m0s\u001b[0m 23ms/step\n",
      "\u001b[1m1/1\u001b[0m \u001b[32m━━━━━━━━━━━━━━━━━━━━\u001b[0m\u001b[37m\u001b[0m \u001b[1m0s\u001b[0m 23ms/step\n",
      "\u001b[1m1/1\u001b[0m \u001b[32m━━━━━━━━━━━━━━━━━━━━\u001b[0m\u001b[37m\u001b[0m \u001b[1m0s\u001b[0m 24ms/step\n",
      "\u001b[1m1/1\u001b[0m \u001b[32m━━━━━━━━━━━━━━━━━━━━\u001b[0m\u001b[37m\u001b[0m \u001b[1m0s\u001b[0m 23ms/step\n",
      "\u001b[1m1/1\u001b[0m \u001b[32m━━━━━━━━━━━━━━━━━━━━\u001b[0m\u001b[37m\u001b[0m \u001b[1m0s\u001b[0m 23ms/step\n",
      "\u001b[1m1/1\u001b[0m \u001b[32m━━━━━━━━━━━━━━━━━━━━\u001b[0m\u001b[37m\u001b[0m \u001b[1m0s\u001b[0m 23ms/step\n",
      "\u001b[1m1/1\u001b[0m \u001b[32m━━━━━━━━━━━━━━━━━━━━\u001b[0m\u001b[37m\u001b[0m \u001b[1m0s\u001b[0m 23ms/step\n",
      "\u001b[1m1/1\u001b[0m \u001b[32m━━━━━━━━━━━━━━━━━━━━\u001b[0m\u001b[37m\u001b[0m \u001b[1m0s\u001b[0m 23ms/step\n",
      "\u001b[1m1/1\u001b[0m \u001b[32m━━━━━━━━━━━━━━━━━━━━\u001b[0m\u001b[37m\u001b[0m \u001b[1m0s\u001b[0m 24ms/step\n",
      "\u001b[1m1/1\u001b[0m \u001b[32m━━━━━━━━━━━━━━━━━━━━\u001b[0m\u001b[37m\u001b[0m \u001b[1m0s\u001b[0m 23ms/step\n",
      "\u001b[1m1/1\u001b[0m \u001b[32m━━━━━━━━━━━━━━━━━━━━\u001b[0m\u001b[37m\u001b[0m \u001b[1m0s\u001b[0m 25ms/step\n",
      "\u001b[1m1/1\u001b[0m \u001b[32m━━━━━━━━━━━━━━━━━━━━\u001b[0m\u001b[37m\u001b[0m \u001b[1m0s\u001b[0m 25ms/step\n",
      "\u001b[1m1/1\u001b[0m \u001b[32m━━━━━━━━━━━━━━━━━━━━\u001b[0m\u001b[37m\u001b[0m \u001b[1m0s\u001b[0m 23ms/step\n",
      "\u001b[1m1/1\u001b[0m \u001b[32m━━━━━━━━━━━━━━━━━━━━\u001b[0m\u001b[37m\u001b[0m \u001b[1m0s\u001b[0m 23ms/step\n",
      "\u001b[1m1/1\u001b[0m \u001b[32m━━━━━━━━━━━━━━━━━━━━\u001b[0m\u001b[37m\u001b[0m \u001b[1m0s\u001b[0m 23ms/step\n",
      "\u001b[1m1/1\u001b[0m \u001b[32m━━━━━━━━━━━━━━━━━━━━\u001b[0m\u001b[37m\u001b[0m \u001b[1m0s\u001b[0m 23ms/step\n",
      "\u001b[1m1/1\u001b[0m \u001b[32m━━━━━━━━━━━━━━━━━━━━\u001b[0m\u001b[37m\u001b[0m \u001b[1m0s\u001b[0m 23ms/step\n",
      "\u001b[1m1/1\u001b[0m \u001b[32m━━━━━━━━━━━━━━━━━━━━\u001b[0m\u001b[37m\u001b[0m \u001b[1m0s\u001b[0m 23ms/step\n",
      "\u001b[1m1/1\u001b[0m \u001b[32m━━━━━━━━━━━━━━━━━━━━\u001b[0m\u001b[37m\u001b[0m \u001b[1m0s\u001b[0m 23ms/step\n",
      "\u001b[1m1/1\u001b[0m \u001b[32m━━━━━━━━━━━━━━━━━━━━\u001b[0m\u001b[37m\u001b[0m \u001b[1m0s\u001b[0m 23ms/step\n",
      "\u001b[1m1/1\u001b[0m \u001b[32m━━━━━━━━━━━━━━━━━━━━\u001b[0m\u001b[37m\u001b[0m \u001b[1m0s\u001b[0m 23ms/step\n",
      "\u001b[1m1/1\u001b[0m \u001b[32m━━━━━━━━━━━━━━━━━━━━\u001b[0m\u001b[37m\u001b[0m \u001b[1m0s\u001b[0m 23ms/step\n",
      "\u001b[1m1/1\u001b[0m \u001b[32m━━━━━━━━━━━━━━━━━━━━\u001b[0m\u001b[37m\u001b[0m \u001b[1m0s\u001b[0m 23ms/step\n",
      "\u001b[1m1/1\u001b[0m \u001b[32m━━━━━━━━━━━━━━━━━━━━\u001b[0m\u001b[37m\u001b[0m \u001b[1m0s\u001b[0m 23ms/step\n",
      "\u001b[1m1/1\u001b[0m \u001b[32m━━━━━━━━━━━━━━━━━━━━\u001b[0m\u001b[37m\u001b[0m \u001b[1m0s\u001b[0m 23ms/step\n",
      "\u001b[1m1/1\u001b[0m \u001b[32m━━━━━━━━━━━━━━━━━━━━\u001b[0m\u001b[37m\u001b[0m \u001b[1m0s\u001b[0m 23ms/step\n",
      "\u001b[1m1/1\u001b[0m \u001b[32m━━━━━━━━━━━━━━━━━━━━\u001b[0m\u001b[37m\u001b[0m \u001b[1m0s\u001b[0m 24ms/step\n",
      "\u001b[1m1/1\u001b[0m \u001b[32m━━━━━━━━━━━━━━━━━━━━\u001b[0m\u001b[37m\u001b[0m \u001b[1m0s\u001b[0m 23ms/step\n",
      "\u001b[1m1/1\u001b[0m \u001b[32m━━━━━━━━━━━━━━━━━━━━\u001b[0m\u001b[37m\u001b[0m \u001b[1m0s\u001b[0m 23ms/step\n",
      "\u001b[1m1/1\u001b[0m \u001b[32m━━━━━━━━━━━━━━━━━━━━\u001b[0m\u001b[37m\u001b[0m \u001b[1m0s\u001b[0m 23ms/step\n",
      "\u001b[1m1/1\u001b[0m \u001b[32m━━━━━━━━━━━━━━━━━━━━\u001b[0m\u001b[37m\u001b[0m \u001b[1m0s\u001b[0m 23ms/step\n",
      "\u001b[1m1/1\u001b[0m \u001b[32m━━━━━━━━━━━━━━━━━━━━\u001b[0m\u001b[37m\u001b[0m \u001b[1m0s\u001b[0m 23ms/step\n",
      "\u001b[1m1/1\u001b[0m \u001b[32m━━━━━━━━━━━━━━━━━━━━\u001b[0m\u001b[37m\u001b[0m \u001b[1m0s\u001b[0m 23ms/step\n",
      "\u001b[1m1/1\u001b[0m \u001b[32m━━━━━━━━━━━━━━━━━━━━\u001b[0m\u001b[37m\u001b[0m \u001b[1m0s\u001b[0m 24ms/step\n",
      "\u001b[1m1/1\u001b[0m \u001b[32m━━━━━━━━━━━━━━━━━━━━\u001b[0m\u001b[37m\u001b[0m \u001b[1m0s\u001b[0m 24ms/step\n",
      "\u001b[1m1/1\u001b[0m \u001b[32m━━━━━━━━━━━━━━━━━━━━\u001b[0m\u001b[37m\u001b[0m \u001b[1m0s\u001b[0m 24ms/step\n",
      "\u001b[1m1/1\u001b[0m \u001b[32m━━━━━━━━━━━━━━━━━━━━\u001b[0m\u001b[37m\u001b[0m \u001b[1m0s\u001b[0m 23ms/step\n",
      "\u001b[1m1/1\u001b[0m \u001b[32m━━━━━━━━━━━━━━━━━━━━\u001b[0m\u001b[37m\u001b[0m \u001b[1m0s\u001b[0m 23ms/step\n",
      "\u001b[1m1/1\u001b[0m \u001b[32m━━━━━━━━━━━━━━━━━━━━\u001b[0m\u001b[37m\u001b[0m \u001b[1m0s\u001b[0m 23ms/step\n",
      "\u001b[1m1/1\u001b[0m \u001b[32m━━━━━━━━━━━━━━━━━━━━\u001b[0m\u001b[37m\u001b[0m \u001b[1m0s\u001b[0m 23ms/step\n",
      "\u001b[1m1/1\u001b[0m \u001b[32m━━━━━━━━━━━━━━━━━━━━\u001b[0m\u001b[37m\u001b[0m \u001b[1m0s\u001b[0m 23ms/step\n",
      "\u001b[1m1/1\u001b[0m \u001b[32m━━━━━━━━━━━━━━━━━━━━\u001b[0m\u001b[37m\u001b[0m \u001b[1m0s\u001b[0m 24ms/step\n",
      "\u001b[1m1/1\u001b[0m \u001b[32m━━━━━━━━━━━━━━━━━━━━\u001b[0m\u001b[37m\u001b[0m \u001b[1m0s\u001b[0m 23ms/step\n",
      "\u001b[1m1/1\u001b[0m \u001b[32m━━━━━━━━━━━━━━━━━━━━\u001b[0m\u001b[37m\u001b[0m \u001b[1m0s\u001b[0m 23ms/step\n",
      "\u001b[1m1/1\u001b[0m \u001b[32m━━━━━━━━━━━━━━━━━━━━\u001b[0m\u001b[37m\u001b[0m \u001b[1m0s\u001b[0m 24ms/step\n",
      "\u001b[1m1/1\u001b[0m \u001b[32m━━━━━━━━━━━━━━━━━━━━\u001b[0m\u001b[37m\u001b[0m \u001b[1m0s\u001b[0m 24ms/step\n",
      "\u001b[1m1/1\u001b[0m \u001b[32m━━━━━━━━━━━━━━━━━━━━\u001b[0m\u001b[37m\u001b[0m \u001b[1m0s\u001b[0m 23ms/step\n",
      "\u001b[1m1/1\u001b[0m \u001b[32m━━━━━━━━━━━━━━━━━━━━\u001b[0m\u001b[37m\u001b[0m \u001b[1m0s\u001b[0m 24ms/step\n",
      "\u001b[1m1/1\u001b[0m \u001b[32m━━━━━━━━━━━━━━━━━━━━\u001b[0m\u001b[37m\u001b[0m \u001b[1m0s\u001b[0m 24ms/step\n",
      "\u001b[1m1/1\u001b[0m \u001b[32m━━━━━━━━━━━━━━━━━━━━\u001b[0m\u001b[37m\u001b[0m \u001b[1m0s\u001b[0m 23ms/step\n",
      "\u001b[1m1/1\u001b[0m \u001b[32m━━━━━━━━━━━━━━━━━━━━\u001b[0m\u001b[37m\u001b[0m \u001b[1m0s\u001b[0m 24ms/step\n",
      "\u001b[1m1/1\u001b[0m \u001b[32m━━━━━━━━━━━━━━━━━━━━\u001b[0m\u001b[37m\u001b[0m \u001b[1m0s\u001b[0m 24ms/step\n",
      "\u001b[1m1/1\u001b[0m \u001b[32m━━━━━━━━━━━━━━━━━━━━\u001b[0m\u001b[37m\u001b[0m \u001b[1m0s\u001b[0m 24ms/step\n",
      "\u001b[1m1/1\u001b[0m \u001b[32m━━━━━━━━━━━━━━━━━━━━\u001b[0m\u001b[37m\u001b[0m \u001b[1m0s\u001b[0m 23ms/step\n",
      "\u001b[1m1/1\u001b[0m \u001b[32m━━━━━━━━━━━━━━━━━━━━\u001b[0m\u001b[37m\u001b[0m \u001b[1m0s\u001b[0m 23ms/step\n",
      "\u001b[1m1/1\u001b[0m \u001b[32m━━━━━━━━━━━━━━━━━━━━\u001b[0m\u001b[37m\u001b[0m \u001b[1m0s\u001b[0m 23ms/step\n",
      "\u001b[1m1/1\u001b[0m \u001b[32m━━━━━━━━━━━━━━━━━━━━\u001b[0m\u001b[37m\u001b[0m \u001b[1m0s\u001b[0m 23ms/step\n",
      "\u001b[1m1/1\u001b[0m \u001b[32m━━━━━━━━━━━━━━━━━━━━\u001b[0m\u001b[37m\u001b[0m \u001b[1m0s\u001b[0m 23ms/step\n",
      "\u001b[1m1/1\u001b[0m \u001b[32m━━━━━━━━━━━━━━━━━━━━\u001b[0m\u001b[37m\u001b[0m \u001b[1m0s\u001b[0m 23ms/step\n",
      "\u001b[1m1/1\u001b[0m \u001b[32m━━━━━━━━━━━━━━━━━━━━\u001b[0m\u001b[37m\u001b[0m \u001b[1m0s\u001b[0m 23ms/step\n",
      "\u001b[1m1/1\u001b[0m \u001b[32m━━━━━━━━━━━━━━━━━━━━\u001b[0m\u001b[37m\u001b[0m \u001b[1m0s\u001b[0m 23ms/step\n",
      "\u001b[1m1/1\u001b[0m \u001b[32m━━━━━━━━━━━━━━━━━━━━\u001b[0m\u001b[37m\u001b[0m \u001b[1m0s\u001b[0m 23ms/step\n",
      "\u001b[1m1/1\u001b[0m \u001b[32m━━━━━━━━━━━━━━━━━━━━\u001b[0m\u001b[37m\u001b[0m \u001b[1m0s\u001b[0m 23ms/step\n",
      "\u001b[1m1/1\u001b[0m \u001b[32m━━━━━━━━━━━━━━━━━━━━\u001b[0m\u001b[37m\u001b[0m \u001b[1m0s\u001b[0m 23ms/step\n",
      "\u001b[1m1/1\u001b[0m \u001b[32m━━━━━━━━━━━━━━━━━━━━\u001b[0m\u001b[37m\u001b[0m \u001b[1m0s\u001b[0m 23ms/step\n",
      "\u001b[1m1/1\u001b[0m \u001b[32m━━━━━━━━━━━━━━━━━━━━\u001b[0m\u001b[37m\u001b[0m \u001b[1m0s\u001b[0m 23ms/step\n",
      "\u001b[1m1/1\u001b[0m \u001b[32m━━━━━━━━━━━━━━━━━━━━\u001b[0m\u001b[37m\u001b[0m \u001b[1m0s\u001b[0m 23ms/step\n",
      "\u001b[1m1/1\u001b[0m \u001b[32m━━━━━━━━━━━━━━━━━━━━\u001b[0m\u001b[37m\u001b[0m \u001b[1m0s\u001b[0m 23ms/step\n",
      "\u001b[1m1/1\u001b[0m \u001b[32m━━━━━━━━━━━━━━━━━━━━\u001b[0m\u001b[37m\u001b[0m \u001b[1m0s\u001b[0m 23ms/step\n",
      "\u001b[1m1/1\u001b[0m \u001b[32m━━━━━━━━━━━━━━━━━━━━\u001b[0m\u001b[37m\u001b[0m \u001b[1m0s\u001b[0m 24ms/step\n",
      "\u001b[1m1/1\u001b[0m \u001b[32m━━━━━━━━━━━━━━━━━━━━\u001b[0m\u001b[37m\u001b[0m \u001b[1m0s\u001b[0m 23ms/step\n",
      "\u001b[1m1/1\u001b[0m \u001b[32m━━━━━━━━━━━━━━━━━━━━\u001b[0m\u001b[37m\u001b[0m \u001b[1m0s\u001b[0m 23ms/step\n",
      "\u001b[1m1/1\u001b[0m \u001b[32m━━━━━━━━━━━━━━━━━━━━\u001b[0m\u001b[37m\u001b[0m \u001b[1m0s\u001b[0m 23ms/step\n",
      "\u001b[1m1/1\u001b[0m \u001b[32m━━━━━━━━━━━━━━━━━━━━\u001b[0m\u001b[37m\u001b[0m \u001b[1m0s\u001b[0m 23ms/step\n",
      "\u001b[1m1/1\u001b[0m \u001b[32m━━━━━━━━━━━━━━━━━━━━\u001b[0m\u001b[37m\u001b[0m \u001b[1m0s\u001b[0m 23ms/step\n",
      "\u001b[1m1/1\u001b[0m \u001b[32m━━━━━━━━━━━━━━━━━━━━\u001b[0m\u001b[37m\u001b[0m \u001b[1m0s\u001b[0m 23ms/step\n",
      "\u001b[1m1/1\u001b[0m \u001b[32m━━━━━━━━━━━━━━━━━━━━\u001b[0m\u001b[37m\u001b[0m \u001b[1m0s\u001b[0m 22ms/step\n",
      "\u001b[1m1/1\u001b[0m \u001b[32m━━━━━━━━━━━━━━━━━━━━\u001b[0m\u001b[37m\u001b[0m \u001b[1m0s\u001b[0m 22ms/step\n",
      "\u001b[1m1/1\u001b[0m \u001b[32m━━━━━━━━━━━━━━━━━━━━\u001b[0m\u001b[37m\u001b[0m \u001b[1m0s\u001b[0m 22ms/step\n",
      "\u001b[1m1/1\u001b[0m \u001b[32m━━━━━━━━━━━━━━━━━━━━\u001b[0m\u001b[37m\u001b[0m \u001b[1m0s\u001b[0m 22ms/step\n",
      "\u001b[1m1/1\u001b[0m \u001b[32m━━━━━━━━━━━━━━━━━━━━\u001b[0m\u001b[37m\u001b[0m \u001b[1m0s\u001b[0m 23ms/step\n",
      "\u001b[1m1/1\u001b[0m \u001b[32m━━━━━━━━━━━━━━━━━━━━\u001b[0m\u001b[37m\u001b[0m \u001b[1m0s\u001b[0m 24ms/step\n",
      "\u001b[1m1/1\u001b[0m \u001b[32m━━━━━━━━━━━━━━━━━━━━\u001b[0m\u001b[37m\u001b[0m \u001b[1m0s\u001b[0m 23ms/step\n",
      "\u001b[1m1/1\u001b[0m \u001b[32m━━━━━━━━━━━━━━━━━━━━\u001b[0m\u001b[37m\u001b[0m \u001b[1m0s\u001b[0m 23ms/step\n",
      "\u001b[1m1/1\u001b[0m \u001b[32m━━━━━━━━━━━━━━━━━━━━\u001b[0m\u001b[37m\u001b[0m \u001b[1m0s\u001b[0m 24ms/step\n",
      "\u001b[1m1/1\u001b[0m \u001b[32m━━━━━━━━━━━━━━━━━━━━\u001b[0m\u001b[37m\u001b[0m \u001b[1m0s\u001b[0m 23ms/step\n",
      "\u001b[1m1/1\u001b[0m \u001b[32m━━━━━━━━━━━━━━━━━━━━\u001b[0m\u001b[37m\u001b[0m \u001b[1m0s\u001b[0m 23ms/step\n",
      "\u001b[1m1/1\u001b[0m \u001b[32m━━━━━━━━━━━━━━━━━━━━\u001b[0m\u001b[37m\u001b[0m \u001b[1m0s\u001b[0m 24ms/step\n",
      "\u001b[1m1/1\u001b[0m \u001b[32m━━━━━━━━━━━━━━━━━━━━\u001b[0m\u001b[37m\u001b[0m \u001b[1m0s\u001b[0m 23ms/step\n"
     ]
    },
    {
     "name": "stdout",
     "output_type": "stream",
     "text": [
      "\u001b[1m1/1\u001b[0m \u001b[32m━━━━━━━━━━━━━━━━━━━━\u001b[0m\u001b[37m\u001b[0m \u001b[1m0s\u001b[0m 22ms/step\n",
      "\u001b[1m1/1\u001b[0m \u001b[32m━━━━━━━━━━━━━━━━━━━━\u001b[0m\u001b[37m\u001b[0m \u001b[1m0s\u001b[0m 23ms/step\n",
      "\u001b[1m1/1\u001b[0m \u001b[32m━━━━━━━━━━━━━━━━━━━━\u001b[0m\u001b[37m\u001b[0m \u001b[1m0s\u001b[0m 23ms/step\n",
      "\u001b[1m1/1\u001b[0m \u001b[32m━━━━━━━━━━━━━━━━━━━━\u001b[0m\u001b[37m\u001b[0m \u001b[1m0s\u001b[0m 24ms/step\n",
      "\u001b[1m1/1\u001b[0m \u001b[32m━━━━━━━━━━━━━━━━━━━━\u001b[0m\u001b[37m\u001b[0m \u001b[1m0s\u001b[0m 23ms/step\n",
      "\u001b[1m1/1\u001b[0m \u001b[32m━━━━━━━━━━━━━━━━━━━━\u001b[0m\u001b[37m\u001b[0m \u001b[1m0s\u001b[0m 22ms/step\n",
      "\u001b[1m1/1\u001b[0m \u001b[32m━━━━━━━━━━━━━━━━━━━━\u001b[0m\u001b[37m\u001b[0m \u001b[1m0s\u001b[0m 23ms/step\n",
      "\u001b[1m1/1\u001b[0m \u001b[32m━━━━━━━━━━━━━━━━━━━━\u001b[0m\u001b[37m\u001b[0m \u001b[1m0s\u001b[0m 23ms/step\n",
      "\u001b[1m1/1\u001b[0m \u001b[32m━━━━━━━━━━━━━━━━━━━━\u001b[0m\u001b[37m\u001b[0m \u001b[1m0s\u001b[0m 23ms/step\n",
      "\u001b[1m1/1\u001b[0m \u001b[32m━━━━━━━━━━━━━━━━━━━━\u001b[0m\u001b[37m\u001b[0m \u001b[1m0s\u001b[0m 23ms/step\n",
      "\u001b[1m1/1\u001b[0m \u001b[32m━━━━━━━━━━━━━━━━━━━━\u001b[0m\u001b[37m\u001b[0m \u001b[1m0s\u001b[0m 24ms/step\n",
      "\u001b[1m1/1\u001b[0m \u001b[32m━━━━━━━━━━━━━━━━━━━━\u001b[0m\u001b[37m\u001b[0m \u001b[1m0s\u001b[0m 24ms/step\n",
      "\u001b[1m1/1\u001b[0m \u001b[32m━━━━━━━━━━━━━━━━━━━━\u001b[0m\u001b[37m\u001b[0m \u001b[1m0s\u001b[0m 23ms/step\n",
      "\u001b[1m1/1\u001b[0m \u001b[32m━━━━━━━━━━━━━━━━━━━━\u001b[0m\u001b[37m\u001b[0m \u001b[1m0s\u001b[0m 24ms/step\n",
      "\u001b[1m1/1\u001b[0m \u001b[32m━━━━━━━━━━━━━━━━━━━━\u001b[0m\u001b[37m\u001b[0m \u001b[1m0s\u001b[0m 23ms/step\n",
      "\u001b[1m1/1\u001b[0m \u001b[32m━━━━━━━━━━━━━━━━━━━━\u001b[0m\u001b[37m\u001b[0m \u001b[1m0s\u001b[0m 23ms/step\n",
      "\u001b[1m1/1\u001b[0m \u001b[32m━━━━━━━━━━━━━━━━━━━━\u001b[0m\u001b[37m\u001b[0m \u001b[1m0s\u001b[0m 23ms/step\n",
      "\u001b[1m1/1\u001b[0m \u001b[32m━━━━━━━━━━━━━━━━━━━━\u001b[0m\u001b[37m\u001b[0m \u001b[1m0s\u001b[0m 23ms/step\n",
      "\u001b[1m1/1\u001b[0m \u001b[32m━━━━━━━━━━━━━━━━━━━━\u001b[0m\u001b[37m\u001b[0m \u001b[1m0s\u001b[0m 23ms/step\n",
      "\u001b[1m1/1\u001b[0m \u001b[32m━━━━━━━━━━━━━━━━━━━━\u001b[0m\u001b[37m\u001b[0m \u001b[1m0s\u001b[0m 23ms/step\n",
      "\u001b[1m1/1\u001b[0m \u001b[32m━━━━━━━━━━━━━━━━━━━━\u001b[0m\u001b[37m\u001b[0m \u001b[1m0s\u001b[0m 23ms/step\n",
      "\u001b[1m1/1\u001b[0m \u001b[32m━━━━━━━━━━━━━━━━━━━━\u001b[0m\u001b[37m\u001b[0m \u001b[1m0s\u001b[0m 24ms/step\n",
      "\u001b[1m1/1\u001b[0m \u001b[32m━━━━━━━━━━━━━━━━━━━━\u001b[0m\u001b[37m\u001b[0m \u001b[1m0s\u001b[0m 23ms/step\n",
      "\u001b[1m1/1\u001b[0m \u001b[32m━━━━━━━━━━━━━━━━━━━━\u001b[0m\u001b[37m\u001b[0m \u001b[1m0s\u001b[0m 23ms/step\n",
      "\u001b[1m1/1\u001b[0m \u001b[32m━━━━━━━━━━━━━━━━━━━━\u001b[0m\u001b[37m\u001b[0m \u001b[1m0s\u001b[0m 23ms/step\n",
      "\u001b[1m1/1\u001b[0m \u001b[32m━━━━━━━━━━━━━━━━━━━━\u001b[0m\u001b[37m\u001b[0m \u001b[1m0s\u001b[0m 23ms/step\n",
      "\u001b[1m1/1\u001b[0m \u001b[32m━━━━━━━━━━━━━━━━━━━━\u001b[0m\u001b[37m\u001b[0m \u001b[1m0s\u001b[0m 23ms/step\n",
      "\u001b[1m1/1\u001b[0m \u001b[32m━━━━━━━━━━━━━━━━━━━━\u001b[0m\u001b[37m\u001b[0m \u001b[1m0s\u001b[0m 23ms/step\n",
      "\u001b[1m1/1\u001b[0m \u001b[32m━━━━━━━━━━━━━━━━━━━━\u001b[0m\u001b[37m\u001b[0m \u001b[1m0s\u001b[0m 27ms/step\n",
      "\u001b[1m1/1\u001b[0m \u001b[32m━━━━━━━━━━━━━━━━━━━━\u001b[0m\u001b[37m\u001b[0m \u001b[1m0s\u001b[0m 23ms/step\n",
      "\u001b[1m1/1\u001b[0m \u001b[32m━━━━━━━━━━━━━━━━━━━━\u001b[0m\u001b[37m\u001b[0m \u001b[1m0s\u001b[0m 24ms/step\n",
      "\u001b[1m1/1\u001b[0m \u001b[32m━━━━━━━━━━━━━━━━━━━━\u001b[0m\u001b[37m\u001b[0m \u001b[1m0s\u001b[0m 23ms/step\n",
      "\u001b[1m1/1\u001b[0m \u001b[32m━━━━━━━━━━━━━━━━━━━━\u001b[0m\u001b[37m\u001b[0m \u001b[1m0s\u001b[0m 23ms/step\n",
      "\u001b[1m1/1\u001b[0m \u001b[32m━━━━━━━━━━━━━━━━━━━━\u001b[0m\u001b[37m\u001b[0m \u001b[1m0s\u001b[0m 24ms/step\n",
      "\u001b[1m1/1\u001b[0m \u001b[32m━━━━━━━━━━━━━━━━━━━━\u001b[0m\u001b[37m\u001b[0m \u001b[1m0s\u001b[0m 23ms/step\n",
      "\u001b[1m1/1\u001b[0m \u001b[32m━━━━━━━━━━━━━━━━━━━━\u001b[0m\u001b[37m\u001b[0m \u001b[1m0s\u001b[0m 23ms/step\n",
      "\u001b[1m1/1\u001b[0m \u001b[32m━━━━━━━━━━━━━━━━━━━━\u001b[0m\u001b[37m\u001b[0m \u001b[1m0s\u001b[0m 23ms/step\n"
     ]
    }
   ],
   "source": [
    "forecast = []\n",
    "\n",
    "# Set periods with the time span of forecasting \n",
    "# Let's forecast for the next 150 business days (04/29/2024 - 11/22/2024)\n",
    "periods = 150\n",
    "\n",
    "first_eval_batch = normalized_full_data[-length60:]\n",
    "current_batch = first_eval_batch.reshape(1, length60, n_features)\n",
    "\n",
    "for i in range(periods):\n",
    "\n",
    "    # get prediction 1 time stamp ahead ([0] is for grabbing just the number instead of [array])\n",
    "    current_pred = model.predict(current_batch)[0]\n",
    "\n",
    "    # store prediction\n",
    "    forecast.append(current_pred)\n",
    "\n",
    "    # update batch to now include prediction and drop first value\n",
    "    current_batch = np.append(current_batch[:,1:,:], [[current_pred]],axis=1)"
   ]
  },
  {
   "cell_type": "markdown",
   "id": "271bc444-a170-46da-accf-d95e03ce4a13",
   "metadata": {},
   "source": [
    "#### Inverse to Transform Normalized Data Back into True Values"
   ]
  },
  {
   "cell_type": "code",
   "execution_count": 55,
   "id": "964367d5-2417-4d72-8bb6-95cd89761cbc",
   "metadata": {},
   "outputs": [
    {
     "data": {
      "text/plain": [
       "array([[162.54828803],\n",
       "       [162.34392008],\n",
       "       [161.50373784],\n",
       "       [160.34067551],\n",
       "       [159.04736896],\n",
       "       [157.7248782 ],\n",
       "       [156.4116755 ],\n",
       "       [155.12039037],\n",
       "       [153.85158479],\n",
       "       [152.6067291 ],\n",
       "       [151.39117526],\n",
       "       [150.20462047],\n",
       "       [149.0467206 ],\n",
       "       [147.91692235],\n",
       "       [146.81321955],\n",
       "       [145.73292861],\n",
       "       [144.67344216],\n",
       "       [143.63371898],\n",
       "       [142.60786146],\n",
       "       [141.607789  ],\n",
       "       [140.64300204],\n",
       "       [139.72665614],\n",
       "       [138.84659773],\n",
       "       [137.89722626],\n",
       "       [136.82419325],\n",
       "       [135.59278391],\n",
       "       [134.19690784],\n",
       "       [132.74636091],\n",
       "       [131.43103333],\n",
       "       [130.34129694],\n",
       "       [129.47104611],\n",
       "       [128.80051212],\n",
       "       [128.31551808],\n",
       "       [127.9881448 ],\n",
       "       [127.81054021],\n",
       "       [127.76705958],\n",
       "       [127.84150189],\n",
       "       [128.02000364],\n",
       "       [128.28477178],\n",
       "       [128.62582612],\n",
       "       [129.03074463],\n",
       "       [129.50655107],\n",
       "       [130.01404564],\n",
       "       [130.52548937],\n",
       "       [131.03146352],\n",
       "       [131.51312619],\n",
       "       [131.98126955],\n",
       "       [132.43699796],\n",
       "       [132.85564708],\n",
       "       [133.26336355],\n",
       "       [133.68726334],\n",
       "       [134.11466467],\n",
       "       [134.54256918],\n",
       "       [134.97589754],\n",
       "       [135.43397519],\n",
       "       [135.9217043 ],\n",
       "       [136.44351869],\n",
       "       [137.00610342],\n",
       "       [137.62054906],\n",
       "       [138.296172  ],\n",
       "       [139.01090545],\n",
       "       [139.74753904],\n",
       "       [140.48897567],\n",
       "       [141.21663378],\n",
       "       [141.90998333],\n",
       "       [142.54980016],\n",
       "       [143.11589296],\n",
       "       [143.5886357 ],\n",
       "       [143.95137998],\n",
       "       [144.19155185],\n",
       "       [144.30115495],\n",
       "       [144.27689794],\n",
       "       [144.12006598],\n",
       "       [143.8361657 ],\n",
       "       [143.43851058],\n",
       "       [142.94300402],\n",
       "       [142.36631184],\n",
       "       [141.72882901],\n",
       "       [141.05127288],\n",
       "       [140.35598251],\n",
       "       [139.66339208],\n",
       "       [138.99248288],\n",
       "       [138.32023841],\n",
       "       [137.58045071],\n",
       "       [136.7306504 ],\n",
       "       [135.73982353],\n",
       "       [134.59184451],\n",
       "       [133.30373744],\n",
       "       [132.008648  ],\n",
       "       [130.8981654 ],\n",
       "       [129.99912897],\n",
       "       [129.28330313],\n",
       "       [128.74578245],\n",
       "       [128.36983579],\n",
       "       [128.1396158 ],\n",
       "       [128.03958993],\n",
       "       [128.05603846],\n",
       "       [128.17378359],\n",
       "       [128.37816678],\n",
       "       [128.66109556],\n",
       "       [129.00223295],\n",
       "       [129.40997229],\n",
       "       [129.8551035 ],\n",
       "       [130.30849083],\n",
       "       [130.76201159],\n",
       "       [131.1970466 ],\n",
       "       [131.61779991],\n",
       "       [132.02990665],\n",
       "       [132.41995205],\n",
       "       [132.77458888],\n",
       "       [133.13052286],\n",
       "       [133.49416022],\n",
       "       [133.85674114],\n",
       "       [134.21291037],\n",
       "       [134.56670639],\n",
       "       [134.93282261],\n",
       "       [135.31794407],\n",
       "       [135.72440914],\n",
       "       [136.15596222],\n",
       "       [136.61701754],\n",
       "       [137.11476769],\n",
       "       [137.66075524],\n",
       "       [138.27575742],\n",
       "       [138.93764975],\n",
       "       [139.62575406],\n",
       "       [140.3216293 ],\n",
       "       [141.00723516],\n",
       "       [141.66318521],\n",
       "       [142.27083362],\n",
       "       [142.81192554],\n",
       "       [143.26798613],\n",
       "       [143.62294752],\n",
       "       [143.8644307 ],\n",
       "       [143.98428901],\n",
       "       [143.97875625],\n",
       "       [143.84837045],\n",
       "       [143.59767109],\n",
       "       [143.23726842],\n",
       "       [142.78185586],\n",
       "       [142.24721265],\n",
       "       [141.65105888],\n",
       "       [141.01307832],\n",
       "       [140.35323791],\n",
       "       [139.69179321],\n",
       "       [139.04790959],\n",
       "       [138.40606698],\n",
       "       [137.69886049],\n",
       "       [136.88803673],\n",
       "       [135.94351949],\n",
       "       [134.84513926]])"
      ]
     },
     "execution_count": 55,
     "metadata": {},
     "output_type": "execute_result"
    }
   ],
   "source": [
    "forecast = full_scaler.inverse_transform(forecast)\n",
    "\n",
    "forecast"
   ]
  },
  {
   "cell_type": "code",
   "execution_count": 56,
   "id": "18800ea6-f18d-4a18-80a3-2fe09a9bedff",
   "metadata": {},
   "outputs": [
    {
     "data": {
      "text/html": [
       "<div>\n",
       "<style scoped>\n",
       "    .dataframe tbody tr th:only-of-type {\n",
       "        vertical-align: middle;\n",
       "    }\n",
       "\n",
       "    .dataframe tbody tr th {\n",
       "        vertical-align: top;\n",
       "    }\n",
       "\n",
       "    .dataframe thead th {\n",
       "        text-align: right;\n",
       "    }\n",
       "</style>\n",
       "<table border=\"1\" class=\"dataframe\">\n",
       "  <thead>\n",
       "    <tr style=\"text-align: right;\">\n",
       "      <th></th>\n",
       "      <th>Close</th>\n",
       "    </tr>\n",
       "  </thead>\n",
       "  <tbody>\n",
       "    <tr>\n",
       "      <th>0</th>\n",
       "      <td>156.800003</td>\n",
       "    </tr>\n",
       "    <tr>\n",
       "      <th>1</th>\n",
       "      <td>156.570007</td>\n",
       "    </tr>\n",
       "    <tr>\n",
       "      <th>2</th>\n",
       "      <td>163.639999</td>\n",
       "    </tr>\n",
       "    <tr>\n",
       "      <th>3</th>\n",
       "      <td>157.649994</td>\n",
       "    </tr>\n",
       "    <tr>\n",
       "      <th>4</th>\n",
       "      <td>157.960007</td>\n",
       "    </tr>\n",
       "    <tr>\n",
       "      <th>...</th>\n",
       "      <td>...</td>\n",
       "    </tr>\n",
       "    <tr>\n",
       "      <th>498</th>\n",
       "      <td>165.000000</td>\n",
       "    </tr>\n",
       "    <tr>\n",
       "      <th>499</th>\n",
       "      <td>165.839996</td>\n",
       "    </tr>\n",
       "    <tr>\n",
       "      <th>500</th>\n",
       "      <td>166.899994</td>\n",
       "    </tr>\n",
       "    <tr>\n",
       "      <th>501</th>\n",
       "      <td>169.020004</td>\n",
       "    </tr>\n",
       "    <tr>\n",
       "      <th>502</th>\n",
       "      <td>169.889999</td>\n",
       "    </tr>\n",
       "  </tbody>\n",
       "</table>\n",
       "<p>503 rows × 1 columns</p>\n",
       "</div>"
      ],
      "text/plain": [
       "          Close\n",
       "0    156.800003\n",
       "1    156.570007\n",
       "2    163.639999\n",
       "3    157.649994\n",
       "4    157.960007\n",
       "..          ...\n",
       "498  165.000000\n",
       "499  165.839996\n",
       "500  166.899994\n",
       "501  169.020004\n",
       "502  169.889999\n",
       "\n",
       "[503 rows x 1 columns]"
      ]
     },
     "execution_count": 56,
     "metadata": {},
     "output_type": "execute_result"
    }
   ],
   "source": [
    "closing_df"
   ]
  },
  {
   "cell_type": "markdown",
   "id": "3a815ab4-d497-431f-877b-9f5d3f53a6ed",
   "metadata": {},
   "source": [
    "#### Creating new timestamp index with pandas: 04/29/2024 - 11/22/2024"
   ]
  },
  {
   "cell_type": "code",
   "execution_count": 57,
   "id": "eff78ed4-0218-4846-bae9-ec8842034182",
   "metadata": {},
   "outputs": [],
   "source": [
    "# calculate forecast index\n",
    "forecast_index = np. arange(503, 653, step=1)  \n",
    "\n"
   ]
  },
  {
   "cell_type": "code",
   "execution_count": 58,
   "id": "40ffcce0-231f-4176-967c-578111fb7fa2",
   "metadata": {},
   "outputs": [],
   "source": [
    "forecast_df = pd.DataFrame(data=forecast, index=forecast_index, columns=['forecast'])"
   ]
  },
  {
   "cell_type": "code",
   "execution_count": 59,
   "id": "15b9b7a5-7a47-4760-ae06-2efe20bde6d6",
   "metadata": {},
   "outputs": [
    {
     "data": {
      "text/html": [
       "<div>\n",
       "<style scoped>\n",
       "    .dataframe tbody tr th:only-of-type {\n",
       "        vertical-align: middle;\n",
       "    }\n",
       "\n",
       "    .dataframe tbody tr th {\n",
       "        vertical-align: top;\n",
       "    }\n",
       "\n",
       "    .dataframe thead th {\n",
       "        text-align: right;\n",
       "    }\n",
       "</style>\n",
       "<table border=\"1\" class=\"dataframe\">\n",
       "  <thead>\n",
       "    <tr style=\"text-align: right;\">\n",
       "      <th></th>\n",
       "      <th>forecast</th>\n",
       "    </tr>\n",
       "  </thead>\n",
       "  <tbody>\n",
       "    <tr>\n",
       "      <th>503</th>\n",
       "      <td>162.548288</td>\n",
       "    </tr>\n",
       "    <tr>\n",
       "      <th>504</th>\n",
       "      <td>162.343920</td>\n",
       "    </tr>\n",
       "    <tr>\n",
       "      <th>505</th>\n",
       "      <td>161.503738</td>\n",
       "    </tr>\n",
       "    <tr>\n",
       "      <th>506</th>\n",
       "      <td>160.340676</td>\n",
       "    </tr>\n",
       "    <tr>\n",
       "      <th>507</th>\n",
       "      <td>159.047369</td>\n",
       "    </tr>\n",
       "    <tr>\n",
       "      <th>...</th>\n",
       "      <td>...</td>\n",
       "    </tr>\n",
       "    <tr>\n",
       "      <th>648</th>\n",
       "      <td>138.406067</td>\n",
       "    </tr>\n",
       "    <tr>\n",
       "      <th>649</th>\n",
       "      <td>137.698860</td>\n",
       "    </tr>\n",
       "    <tr>\n",
       "      <th>650</th>\n",
       "      <td>136.888037</td>\n",
       "    </tr>\n",
       "    <tr>\n",
       "      <th>651</th>\n",
       "      <td>135.943519</td>\n",
       "    </tr>\n",
       "    <tr>\n",
       "      <th>652</th>\n",
       "      <td>134.845139</td>\n",
       "    </tr>\n",
       "  </tbody>\n",
       "</table>\n",
       "<p>150 rows × 1 columns</p>\n",
       "</div>"
      ],
      "text/plain": [
       "       forecast\n",
       "503  162.548288\n",
       "504  162.343920\n",
       "505  161.503738\n",
       "506  160.340676\n",
       "507  159.047369\n",
       "..          ...\n",
       "648  138.406067\n",
       "649  137.698860\n",
       "650  136.888037\n",
       "651  135.943519\n",
       "652  134.845139\n",
       "\n",
       "[150 rows x 1 columns]"
      ]
     },
     "execution_count": 59,
     "metadata": {},
     "output_type": "execute_result"
    }
   ],
   "source": [
    "forecast_df"
   ]
  },
  {
   "cell_type": "markdown",
   "id": "91f313e1",
   "metadata": {},
   "source": [
    "**Note**: our index start from 0 so it takes the number before 653, which is 652 as seen above"
   ]
  },
  {
   "cell_type": "markdown",
   "id": "8e79d6fb-4d43-4a27-9b8c-1d81532a27dd",
   "metadata": {},
   "source": [
    "#### Plot the Forecast"
   ]
  },
  {
   "cell_type": "code",
   "execution_count": 60,
   "id": "aaa7bfce-2ab6-4f74-b3de-ebbe04c1471d",
   "metadata": {},
   "outputs": [
    {
     "data": {
      "text/plain": [
       "<Axes: >"
      ]
     },
     "execution_count": 60,
     "metadata": {},
     "output_type": "execute_result"
    },
    {
     "data": {
      "image/png": "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",
      "text/plain": [
       "<Figure size 640x480 with 1 Axes>"
      ]
     },
     "metadata": {},
     "output_type": "display_data"
    },
    {
     "data": {
      "image/png": "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",
      "text/plain": [
       "<Figure size 640x480 with 1 Axes>"
      ]
     },
     "metadata": {},
     "output_type": "display_data"
    }
   ],
   "source": [
    "closing_df.plot()\n",
    "forecast_df.plot()"
   ]
  },
  {
   "cell_type": "markdown",
   "id": "8e8df043-4f11-49a0-9485-b837b6f6850c",
   "metadata": {},
   "source": [
    "#### Joining Pandas Plots"
   ]
  },
  {
   "cell_type": "markdown",
   "id": "590be61e",
   "metadata": {},
   "source": [
    "links:\n",
    " https://stackoverflow.com/questions/13872533/plot-diffeent    "
   ]
  },
  {
   "cell_type": "code",
   "execution_count": 61,
   "id": "54a65259-9a6d-4978-b6fa-cc4e5577ea94",
   "metadata": {},
   "outputs": [
    {
     "data": {
      "text/plain": [
       "<Axes: >"
      ]
     },
     "execution_count": 61,
     "metadata": {},
     "output_type": "execute_result"
    },
    {
     "data": {
      "image/png": "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",
      "text/plain": [
       "<Figure size 1200x800 with 1 Axes>"
      ]
     },
     "metadata": {},
     "output_type": "display_data"
    }
   ],
   "source": [
    "ax = closing_df.plot()\n",
    "forecast_df.plot(ax=ax, figsize=(12, 8))"
   ]
  }
 ],
 "metadata": {
  "kernelspec": {
   "display_name": "Python 3 (ipykernel)",
   "language": "python",
   "name": "python3"
  },
  "language_info": {
   "codemirror_mode": {
    "name": "ipython",
    "version": 3
   },
   "file_extension": ".py",
   "mimetype": "text/x-python",
   "name": "python",
   "nbconvert_exporter": "python",
   "pygments_lexer": "ipython3",
   "version": "3.11.7"
  }
 },
 "nbformat": 4,
 "nbformat_minor": 5
}
